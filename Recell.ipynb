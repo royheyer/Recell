{
  "nbformat": 4,
  "nbformat_minor": 0,
  "metadata": {
    "colab": {
      "provenance": [],
      "mount_file_id": "1zIheW0MSybGsjBUYabBOAVRI6NLKe7Gp",
      "authorship_tag": "ABX9TyPx+DjyEstGYRDHjwh5Pfuk",
      "include_colab_link": true
    },
    "kernelspec": {
      "name": "python3",
      "display_name": "Python 3"
    },
    "language_info": {
      "name": "python"
    }
  },
  "cells": [
    {
      "cell_type": "markdown",
      "metadata": {
        "id": "view-in-github",
        "colab_type": "text"
      },
      "source": [
        "<a href=\"https://colab.research.google.com/github/royheyer/Recell/blob/main/Recell.ipynb\" target=\"_parent\"><img src=\"https://colab.research.google.com/assets/colab-badge.svg\" alt=\"Open In Colab\"/></a>"
      ]
    },
    {
      "cell_type": "markdown",
      "source": [
        "\n",
        "# Supervised Learning - Foundations Project: ReCell\n",
        "# Problem Statement\n",
        "# Business Context\n",
        "\n",
        "Buying and selling used phones and tablets used to be something that happened on a handful of online marketplace sites. But the used and refurbished device market has grown considerably over the past decade, and a new IDC (International Data Corporation) forecast predicts that the used phone market would be worth $52.7bn by 2023 with a compound annual growth rate (CAGR) of 13.6% from 2018 to 2023. This growth can be attributed to an uptick in demand for used phones and tablets that offer considerable savings compared with new models.\n",
        "\n",
        "Refurbished and used devices continue to provide cost-effective alternatives to both consumers and businesses that are looking to save money when purchasing one. There are plenty of other benefits associated with the used device market. Used and refurbished devices can be sold with warranties and can also be insured with proof of purchase. Third-party vendors/platforms, such as Verizon, Amazon, etc., provide attractive offers to customers for refurbished devices. Maximizing the longevity of devices through second-hand trade also reduces their environmental impact and helps in recycling and reducing waste. The impact of the COVID-19 outbreak may further boost this segment as consumers cut back on discretionary spending and buy phones and tablets only for immediate needs.\n",
        "Objective\n",
        "\n",
        "The rising potential of this comparatively under-the-radar market fuels the need for an ML-based solution to develop a dynamic pricing strategy for used and refurbished devices. ReCell, a startup aiming to tap the potential in this market, has hired you as a data scientist. They want you to analyze the data provided and build a linear regression model to predict the price of a used phone/tablet and identify factors that significantly influence it.\n",
        "# Data Description\n",
        "\n",
        "The data contains the different attributes of used/refurbished phones and tablets. The data was collected in the year 2021. The detailed data dictionary is given below.\n",
        "\n",
        "    brand_name: Name of manufacturing brand\n",
        "    os: OS on which the device runs\n",
        "    screen_size: Size of the screen in cm\n",
        "    4g: Whether 4G is available or not\n",
        "    5g: Whether 5G is available or not\n",
        "    main_camera_mp: Resolution of the rear camera in megapixels\n",
        "    selfie_camera_mp: Resolution of the front camera in megapixels\n",
        "    int_memory: Amount of internal memory (ROM) in GB\n",
        "    ram: Amount of RAM in GB\n",
        "    battery: Energy capacity of the device battery in mAh\n",
        "    weight: Weight of the device in grams\n",
        "    release_year: Year when the device model was released\n",
        "    days_used: Number of days the used/refurbished device has been used\n",
        "    normalized_new_price: Normalized price of a new device of the same model in euros\n",
        "    normalized_used_price: Normalized price of the used/refurbished device in euros\n"
      ],
      "metadata": {
        "id": "FrO4uhoJYAG9"
      }
    },
    {
      "cell_type": "code",
      "source": [
        "#Function to import Google my drive\n",
        "from google.colab import drive\n",
        "drive.mount('/content/drive')\n"
      ],
      "metadata": {
        "colab": {
          "base_uri": "https://localhost:8080/"
        },
        "id": "HASJX5eQYIry",
        "outputId": "b2f1f99d-06c9-4b38-8f6b-b6e619af890a"
      },
      "execution_count": null,
      "outputs": [
        {
          "output_type": "stream",
          "name": "stdout",
          "text": [
            "Drive already mounted at /content/drive; to attempt to forcibly remount, call drive.mount(\"/content/drive\", force_remount=True).\n"
          ]
        }
      ]
    },
    {
      "cell_type": "code",
      "source": [
        "#Function imports csv file for a dataframe\n",
        "from google.colab import files\n",
        "uploaded = files.upload()"
      ],
      "metadata": {
        "colab": {
          "base_uri": "https://localhost:8080/",
          "height": 74
        },
        "id": "VukzXK3UYe6X",
        "outputId": "0307e090-3c83-49b9-b1fb-0f4e04e065bd"
      },
      "execution_count": null,
      "outputs": [
        {
          "output_type": "display_data",
          "data": {
            "text/plain": [
              "<IPython.core.display.HTML object>"
            ],
            "text/html": [
              "\n",
              "     <input type=\"file\" id=\"files-32a4130d-16ca-4946-b93f-ab673e65c63c\" name=\"files[]\" multiple disabled\n",
              "        style=\"border:none\" />\n",
              "     <output id=\"result-32a4130d-16ca-4946-b93f-ab673e65c63c\">\n",
              "      Upload widget is only available when the cell has been executed in the\n",
              "      current browser session. Please rerun this cell to enable.\n",
              "      </output>\n",
              "      <script>// Copyright 2017 Google LLC\n",
              "//\n",
              "// Licensed under the Apache License, Version 2.0 (the \"License\");\n",
              "// you may not use this file except in compliance with the License.\n",
              "// You may obtain a copy of the License at\n",
              "//\n",
              "//      http://www.apache.org/licenses/LICENSE-2.0\n",
              "//\n",
              "// Unless required by applicable law or agreed to in writing, software\n",
              "// distributed under the License is distributed on an \"AS IS\" BASIS,\n",
              "// WITHOUT WARRANTIES OR CONDITIONS OF ANY KIND, either express or implied.\n",
              "// See the License for the specific language governing permissions and\n",
              "// limitations under the License.\n",
              "\n",
              "/**\n",
              " * @fileoverview Helpers for google.colab Python module.\n",
              " */\n",
              "(function(scope) {\n",
              "function span(text, styleAttributes = {}) {\n",
              "  const element = document.createElement('span');\n",
              "  element.textContent = text;\n",
              "  for (const key of Object.keys(styleAttributes)) {\n",
              "    element.style[key] = styleAttributes[key];\n",
              "  }\n",
              "  return element;\n",
              "}\n",
              "\n",
              "// Max number of bytes which will be uploaded at a time.\n",
              "const MAX_PAYLOAD_SIZE = 100 * 1024;\n",
              "\n",
              "function _uploadFiles(inputId, outputId) {\n",
              "  const steps = uploadFilesStep(inputId, outputId);\n",
              "  const outputElement = document.getElementById(outputId);\n",
              "  // Cache steps on the outputElement to make it available for the next call\n",
              "  // to uploadFilesContinue from Python.\n",
              "  outputElement.steps = steps;\n",
              "\n",
              "  return _uploadFilesContinue(outputId);\n",
              "}\n",
              "\n",
              "// This is roughly an async generator (not supported in the browser yet),\n",
              "// where there are multiple asynchronous steps and the Python side is going\n",
              "// to poll for completion of each step.\n",
              "// This uses a Promise to block the python side on completion of each step,\n",
              "// then passes the result of the previous step as the input to the next step.\n",
              "function _uploadFilesContinue(outputId) {\n",
              "  const outputElement = document.getElementById(outputId);\n",
              "  const steps = outputElement.steps;\n",
              "\n",
              "  const next = steps.next(outputElement.lastPromiseValue);\n",
              "  return Promise.resolve(next.value.promise).then((value) => {\n",
              "    // Cache the last promise value to make it available to the next\n",
              "    // step of the generator.\n",
              "    outputElement.lastPromiseValue = value;\n",
              "    return next.value.response;\n",
              "  });\n",
              "}\n",
              "\n",
              "/**\n",
              " * Generator function which is called between each async step of the upload\n",
              " * process.\n",
              " * @param {string} inputId Element ID of the input file picker element.\n",
              " * @param {string} outputId Element ID of the output display.\n",
              " * @return {!Iterable<!Object>} Iterable of next steps.\n",
              " */\n",
              "function* uploadFilesStep(inputId, outputId) {\n",
              "  const inputElement = document.getElementById(inputId);\n",
              "  inputElement.disabled = false;\n",
              "\n",
              "  const outputElement = document.getElementById(outputId);\n",
              "  outputElement.innerHTML = '';\n",
              "\n",
              "  const pickedPromise = new Promise((resolve) => {\n",
              "    inputElement.addEventListener('change', (e) => {\n",
              "      resolve(e.target.files);\n",
              "    });\n",
              "  });\n",
              "\n",
              "  const cancel = document.createElement('button');\n",
              "  inputElement.parentElement.appendChild(cancel);\n",
              "  cancel.textContent = 'Cancel upload';\n",
              "  const cancelPromise = new Promise((resolve) => {\n",
              "    cancel.onclick = () => {\n",
              "      resolve(null);\n",
              "    };\n",
              "  });\n",
              "\n",
              "  // Wait for the user to pick the files.\n",
              "  const files = yield {\n",
              "    promise: Promise.race([pickedPromise, cancelPromise]),\n",
              "    response: {\n",
              "      action: 'starting',\n",
              "    }\n",
              "  };\n",
              "\n",
              "  cancel.remove();\n",
              "\n",
              "  // Disable the input element since further picks are not allowed.\n",
              "  inputElement.disabled = true;\n",
              "\n",
              "  if (!files) {\n",
              "    return {\n",
              "      response: {\n",
              "        action: 'complete',\n",
              "      }\n",
              "    };\n",
              "  }\n",
              "\n",
              "  for (const file of files) {\n",
              "    const li = document.createElement('li');\n",
              "    li.append(span(file.name, {fontWeight: 'bold'}));\n",
              "    li.append(span(\n",
              "        `(${file.type || 'n/a'}) - ${file.size} bytes, ` +\n",
              "        `last modified: ${\n",
              "            file.lastModifiedDate ? file.lastModifiedDate.toLocaleDateString() :\n",
              "                                    'n/a'} - `));\n",
              "    const percent = span('0% done');\n",
              "    li.appendChild(percent);\n",
              "\n",
              "    outputElement.appendChild(li);\n",
              "\n",
              "    const fileDataPromise = new Promise((resolve) => {\n",
              "      const reader = new FileReader();\n",
              "      reader.onload = (e) => {\n",
              "        resolve(e.target.result);\n",
              "      };\n",
              "      reader.readAsArrayBuffer(file);\n",
              "    });\n",
              "    // Wait for the data to be ready.\n",
              "    let fileData = yield {\n",
              "      promise: fileDataPromise,\n",
              "      response: {\n",
              "        action: 'continue',\n",
              "      }\n",
              "    };\n",
              "\n",
              "    // Use a chunked sending to avoid message size limits. See b/62115660.\n",
              "    let position = 0;\n",
              "    do {\n",
              "      const length = Math.min(fileData.byteLength - position, MAX_PAYLOAD_SIZE);\n",
              "      const chunk = new Uint8Array(fileData, position, length);\n",
              "      position += length;\n",
              "\n",
              "      const base64 = btoa(String.fromCharCode.apply(null, chunk));\n",
              "      yield {\n",
              "        response: {\n",
              "          action: 'append',\n",
              "          file: file.name,\n",
              "          data: base64,\n",
              "        },\n",
              "      };\n",
              "\n",
              "      let percentDone = fileData.byteLength === 0 ?\n",
              "          100 :\n",
              "          Math.round((position / fileData.byteLength) * 100);\n",
              "      percent.textContent = `${percentDone}% done`;\n",
              "\n",
              "    } while (position < fileData.byteLength);\n",
              "  }\n",
              "\n",
              "  // All done.\n",
              "  yield {\n",
              "    response: {\n",
              "      action: 'complete',\n",
              "    }\n",
              "  };\n",
              "}\n",
              "\n",
              "scope.google = scope.google || {};\n",
              "scope.google.colab = scope.google.colab || {};\n",
              "scope.google.colab._files = {\n",
              "  _uploadFiles,\n",
              "  _uploadFilesContinue,\n",
              "};\n",
              "})(self);\n",
              "</script> "
            ]
          },
          "metadata": {}
        },
        {
          "output_type": "stream",
          "name": "stdout",
          "text": [
            "Saving used_device_data.csv to used_device_data (1).csv\n"
          ]
        }
      ]
    },
    {
      "cell_type": "code",
      "source": [
        "#Function defines a dataframe\n",
        "import io\n",
        "data = pd.read_csv(io.BytesIO(uploaded['used_device_data.csv']))\n"
      ],
      "metadata": {
        "id": "lDEuBDfmYo3C"
      },
      "execution_count": null,
      "outputs": []
    },
    {
      "cell_type": "code",
      "execution_count": null,
      "metadata": {
        "id": "ZN0rt9BdWZk4"
      },
      "outputs": [],
      "source": [
        "# Libraries to help with reading and manipulating data\n",
        "import numpy as np\n",
        "import pandas as pd\n",
        "\n",
        "# Libraries to help with data visualization\n",
        "import matplotlib.pyplot as plt\n",
        "import seaborn as sns\n",
        "%matplotlib inline\n",
        "sns.set(color_codes=True)\n",
        "\n",
        "# to split the data into train and test\n",
        "from sklearn.model_selection import train_test_split\n",
        "\n",
        "# to build linear regression_model\n",
        "from sklearn.linear_model import LinearRegression\n",
        "\n",
        "# to check model performance\n",
        "from sklearn.metrics import mean_absolute_error, mean_squared_error, r2_score\n",
        "\n",
        "# to build linear regression_model using statsmodels\n",
        "import statsmodels.api as sm\n",
        "\n",
        "# Removes the limit for the number of displayed columns\n",
        "pd.set_option(\"display.max_columns\", None)\n",
        "# Sets the limit for the number of displayed rows\n",
        "pd.set_option(\"display.max_rows\", 200)"
      ]
    },
    {
      "cell_type": "markdown",
      "source": [
        "# Exploratory Data Analysis"
      ],
      "metadata": {
        "id": "4T-Kvn0EeI2N"
      }
    },
    {
      "cell_type": "code",
      "source": [
        "#Function to view a random sample of the data for better observation\n",
        "data.sample(n=10, random_state=1)"
      ],
      "metadata": {
        "colab": {
          "base_uri": "https://localhost:8080/",
          "height": 426
        },
        "id": "QxuaNdzcXmKS",
        "outputId": "fa6c4e85-92a8-4828-a734-3419e11fb9c6"
      },
      "execution_count": null,
      "outputs": [
        {
          "output_type": "execute_result",
          "data": {
            "text/plain": [
              "     brand_name       os  screen_size   4g  5g  main_camera_mp  \\\n",
              "866      Others  Android        15.24   no  no            8.00   \n",
              "957      Celkon  Android        10.16   no  no            3.15   \n",
              "280     Infinix  Android        15.39  yes  no             NaN   \n",
              "2150       Oppo  Android        12.83  yes  no           13.00   \n",
              "93           LG  Android        15.29  yes  no           13.00   \n",
              "1040     Gionee  Android        12.83  yes  no           13.00   \n",
              "3170        ZTE   Others        10.16   no  no            3.15   \n",
              "2742       Sony  Android        12.70  yes  no           20.70   \n",
              "102       Meizu  Android        15.29  yes  no             NaN   \n",
              "1195        HTC  Android        10.29   no  no            8.00   \n",
              "\n",
              "      selfie_camera_mp  int_memory   ram  battery  weight  release_year  \\\n",
              "866                2.0        16.0  4.00   3000.0   206.0          2014   \n",
              "957                0.3       512.0  0.25   1400.0   140.0          2013   \n",
              "280                8.0        32.0  2.00   5000.0   185.0          2020   \n",
              "2150              16.0        64.0  4.00   3200.0   148.0          2017   \n",
              "93                 5.0        32.0  3.00   3500.0   179.0          2019   \n",
              "1040               8.0        32.0  4.00   3150.0   166.0          2016   \n",
              "3170               5.0        16.0  4.00   1400.0   125.0          2014   \n",
              "2742               2.0        16.0  4.00   3000.0   170.0          2013   \n",
              "102               20.0       128.0  6.00   3600.0   165.0          2019   \n",
              "1195               2.0        32.0  4.00   2000.0   146.0          2015   \n",
              "\n",
              "      days_used  normalized_used_price  normalized_new_price  \n",
              "866         632               4.038832              5.190788  \n",
              "957         637               2.800325              3.884652  \n",
              "280         329               4.370713              4.487287  \n",
              "2150        648               4.677863              5.639422  \n",
              "93          216               4.517650              5.300415  \n",
              "1040        970               4.645640              5.634325  \n",
              "3170       1007               3.764451              4.244344  \n",
              "2742       1060               4.422809              5.799820  \n",
              "102         332               4.959412              6.040659  \n",
              "1195        892               4.227855              4.879007  "
            ],
            "text/html": [
              "\n",
              "  <div id=\"df-ba7c07d9-5628-4e2c-9f87-ad152584e221\">\n",
              "    <div class=\"colab-df-container\">\n",
              "      <div>\n",
              "<style scoped>\n",
              "    .dataframe tbody tr th:only-of-type {\n",
              "        vertical-align: middle;\n",
              "    }\n",
              "\n",
              "    .dataframe tbody tr th {\n",
              "        vertical-align: top;\n",
              "    }\n",
              "\n",
              "    .dataframe thead th {\n",
              "        text-align: right;\n",
              "    }\n",
              "</style>\n",
              "<table border=\"1\" class=\"dataframe\">\n",
              "  <thead>\n",
              "    <tr style=\"text-align: right;\">\n",
              "      <th></th>\n",
              "      <th>brand_name</th>\n",
              "      <th>os</th>\n",
              "      <th>screen_size</th>\n",
              "      <th>4g</th>\n",
              "      <th>5g</th>\n",
              "      <th>main_camera_mp</th>\n",
              "      <th>selfie_camera_mp</th>\n",
              "      <th>int_memory</th>\n",
              "      <th>ram</th>\n",
              "      <th>battery</th>\n",
              "      <th>weight</th>\n",
              "      <th>release_year</th>\n",
              "      <th>days_used</th>\n",
              "      <th>normalized_used_price</th>\n",
              "      <th>normalized_new_price</th>\n",
              "    </tr>\n",
              "  </thead>\n",
              "  <tbody>\n",
              "    <tr>\n",
              "      <th>866</th>\n",
              "      <td>Others</td>\n",
              "      <td>Android</td>\n",
              "      <td>15.24</td>\n",
              "      <td>no</td>\n",
              "      <td>no</td>\n",
              "      <td>8.00</td>\n",
              "      <td>2.0</td>\n",
              "      <td>16.0</td>\n",
              "      <td>4.00</td>\n",
              "      <td>3000.0</td>\n",
              "      <td>206.0</td>\n",
              "      <td>2014</td>\n",
              "      <td>632</td>\n",
              "      <td>4.038832</td>\n",
              "      <td>5.190788</td>\n",
              "    </tr>\n",
              "    <tr>\n",
              "      <th>957</th>\n",
              "      <td>Celkon</td>\n",
              "      <td>Android</td>\n",
              "      <td>10.16</td>\n",
              "      <td>no</td>\n",
              "      <td>no</td>\n",
              "      <td>3.15</td>\n",
              "      <td>0.3</td>\n",
              "      <td>512.0</td>\n",
              "      <td>0.25</td>\n",
              "      <td>1400.0</td>\n",
              "      <td>140.0</td>\n",
              "      <td>2013</td>\n",
              "      <td>637</td>\n",
              "      <td>2.800325</td>\n",
              "      <td>3.884652</td>\n",
              "    </tr>\n",
              "    <tr>\n",
              "      <th>280</th>\n",
              "      <td>Infinix</td>\n",
              "      <td>Android</td>\n",
              "      <td>15.39</td>\n",
              "      <td>yes</td>\n",
              "      <td>no</td>\n",
              "      <td>NaN</td>\n",
              "      <td>8.0</td>\n",
              "      <td>32.0</td>\n",
              "      <td>2.00</td>\n",
              "      <td>5000.0</td>\n",
              "      <td>185.0</td>\n",
              "      <td>2020</td>\n",
              "      <td>329</td>\n",
              "      <td>4.370713</td>\n",
              "      <td>4.487287</td>\n",
              "    </tr>\n",
              "    <tr>\n",
              "      <th>2150</th>\n",
              "      <td>Oppo</td>\n",
              "      <td>Android</td>\n",
              "      <td>12.83</td>\n",
              "      <td>yes</td>\n",
              "      <td>no</td>\n",
              "      <td>13.00</td>\n",
              "      <td>16.0</td>\n",
              "      <td>64.0</td>\n",
              "      <td>4.00</td>\n",
              "      <td>3200.0</td>\n",
              "      <td>148.0</td>\n",
              "      <td>2017</td>\n",
              "      <td>648</td>\n",
              "      <td>4.677863</td>\n",
              "      <td>5.639422</td>\n",
              "    </tr>\n",
              "    <tr>\n",
              "      <th>93</th>\n",
              "      <td>LG</td>\n",
              "      <td>Android</td>\n",
              "      <td>15.29</td>\n",
              "      <td>yes</td>\n",
              "      <td>no</td>\n",
              "      <td>13.00</td>\n",
              "      <td>5.0</td>\n",
              "      <td>32.0</td>\n",
              "      <td>3.00</td>\n",
              "      <td>3500.0</td>\n",
              "      <td>179.0</td>\n",
              "      <td>2019</td>\n",
              "      <td>216</td>\n",
              "      <td>4.517650</td>\n",
              "      <td>5.300415</td>\n",
              "    </tr>\n",
              "    <tr>\n",
              "      <th>1040</th>\n",
              "      <td>Gionee</td>\n",
              "      <td>Android</td>\n",
              "      <td>12.83</td>\n",
              "      <td>yes</td>\n",
              "      <td>no</td>\n",
              "      <td>13.00</td>\n",
              "      <td>8.0</td>\n",
              "      <td>32.0</td>\n",
              "      <td>4.00</td>\n",
              "      <td>3150.0</td>\n",
              "      <td>166.0</td>\n",
              "      <td>2016</td>\n",
              "      <td>970</td>\n",
              "      <td>4.645640</td>\n",
              "      <td>5.634325</td>\n",
              "    </tr>\n",
              "    <tr>\n",
              "      <th>3170</th>\n",
              "      <td>ZTE</td>\n",
              "      <td>Others</td>\n",
              "      <td>10.16</td>\n",
              "      <td>no</td>\n",
              "      <td>no</td>\n",
              "      <td>3.15</td>\n",
              "      <td>5.0</td>\n",
              "      <td>16.0</td>\n",
              "      <td>4.00</td>\n",
              "      <td>1400.0</td>\n",
              "      <td>125.0</td>\n",
              "      <td>2014</td>\n",
              "      <td>1007</td>\n",
              "      <td>3.764451</td>\n",
              "      <td>4.244344</td>\n",
              "    </tr>\n",
              "    <tr>\n",
              "      <th>2742</th>\n",
              "      <td>Sony</td>\n",
              "      <td>Android</td>\n",
              "      <td>12.70</td>\n",
              "      <td>yes</td>\n",
              "      <td>no</td>\n",
              "      <td>20.70</td>\n",
              "      <td>2.0</td>\n",
              "      <td>16.0</td>\n",
              "      <td>4.00</td>\n",
              "      <td>3000.0</td>\n",
              "      <td>170.0</td>\n",
              "      <td>2013</td>\n",
              "      <td>1060</td>\n",
              "      <td>4.422809</td>\n",
              "      <td>5.799820</td>\n",
              "    </tr>\n",
              "    <tr>\n",
              "      <th>102</th>\n",
              "      <td>Meizu</td>\n",
              "      <td>Android</td>\n",
              "      <td>15.29</td>\n",
              "      <td>yes</td>\n",
              "      <td>no</td>\n",
              "      <td>NaN</td>\n",
              "      <td>20.0</td>\n",
              "      <td>128.0</td>\n",
              "      <td>6.00</td>\n",
              "      <td>3600.0</td>\n",
              "      <td>165.0</td>\n",
              "      <td>2019</td>\n",
              "      <td>332</td>\n",
              "      <td>4.959412</td>\n",
              "      <td>6.040659</td>\n",
              "    </tr>\n",
              "    <tr>\n",
              "      <th>1195</th>\n",
              "      <td>HTC</td>\n",
              "      <td>Android</td>\n",
              "      <td>10.29</td>\n",
              "      <td>no</td>\n",
              "      <td>no</td>\n",
              "      <td>8.00</td>\n",
              "      <td>2.0</td>\n",
              "      <td>32.0</td>\n",
              "      <td>4.00</td>\n",
              "      <td>2000.0</td>\n",
              "      <td>146.0</td>\n",
              "      <td>2015</td>\n",
              "      <td>892</td>\n",
              "      <td>4.227855</td>\n",
              "      <td>4.879007</td>\n",
              "    </tr>\n",
              "  </tbody>\n",
              "</table>\n",
              "</div>\n",
              "      <button class=\"colab-df-convert\" onclick=\"convertToInteractive('df-ba7c07d9-5628-4e2c-9f87-ad152584e221')\"\n",
              "              title=\"Convert this dataframe to an interactive table.\"\n",
              "              style=\"display:none;\">\n",
              "        \n",
              "  <svg xmlns=\"http://www.w3.org/2000/svg\" height=\"24px\"viewBox=\"0 0 24 24\"\n",
              "       width=\"24px\">\n",
              "    <path d=\"M0 0h24v24H0V0z\" fill=\"none\"/>\n",
              "    <path d=\"M18.56 5.44l.94 2.06.94-2.06 2.06-.94-2.06-.94-.94-2.06-.94 2.06-2.06.94zm-11 1L8.5 8.5l.94-2.06 2.06-.94-2.06-.94L8.5 2.5l-.94 2.06-2.06.94zm10 10l.94 2.06.94-2.06 2.06-.94-2.06-.94-.94-2.06-.94 2.06-2.06.94z\"/><path d=\"M17.41 7.96l-1.37-1.37c-.4-.4-.92-.59-1.43-.59-.52 0-1.04.2-1.43.59L10.3 9.45l-7.72 7.72c-.78.78-.78 2.05 0 2.83L4 21.41c.39.39.9.59 1.41.59.51 0 1.02-.2 1.41-.59l7.78-7.78 2.81-2.81c.8-.78.8-2.07 0-2.86zM5.41 20L4 18.59l7.72-7.72 1.47 1.35L5.41 20z\"/>\n",
              "  </svg>\n",
              "      </button>\n",
              "      \n",
              "  <style>\n",
              "    .colab-df-container {\n",
              "      display:flex;\n",
              "      flex-wrap:wrap;\n",
              "      gap: 12px;\n",
              "    }\n",
              "\n",
              "    .colab-df-convert {\n",
              "      background-color: #E8F0FE;\n",
              "      border: none;\n",
              "      border-radius: 50%;\n",
              "      cursor: pointer;\n",
              "      display: none;\n",
              "      fill: #1967D2;\n",
              "      height: 32px;\n",
              "      padding: 0 0 0 0;\n",
              "      width: 32px;\n",
              "    }\n",
              "\n",
              "    .colab-df-convert:hover {\n",
              "      background-color: #E2EBFA;\n",
              "      box-shadow: 0px 1px 2px rgba(60, 64, 67, 0.3), 0px 1px 3px 1px rgba(60, 64, 67, 0.15);\n",
              "      fill: #174EA6;\n",
              "    }\n",
              "\n",
              "    [theme=dark] .colab-df-convert {\n",
              "      background-color: #3B4455;\n",
              "      fill: #D2E3FC;\n",
              "    }\n",
              "\n",
              "    [theme=dark] .colab-df-convert:hover {\n",
              "      background-color: #434B5C;\n",
              "      box-shadow: 0px 1px 3px 1px rgba(0, 0, 0, 0.15);\n",
              "      filter: drop-shadow(0px 1px 2px rgba(0, 0, 0, 0.3));\n",
              "      fill: #FFFFFF;\n",
              "    }\n",
              "  </style>\n",
              "\n",
              "      <script>\n",
              "        const buttonEl =\n",
              "          document.querySelector('#df-ba7c07d9-5628-4e2c-9f87-ad152584e221 button.colab-df-convert');\n",
              "        buttonEl.style.display =\n",
              "          google.colab.kernel.accessAllowed ? 'block' : 'none';\n",
              "\n",
              "        async function convertToInteractive(key) {\n",
              "          const element = document.querySelector('#df-ba7c07d9-5628-4e2c-9f87-ad152584e221');\n",
              "          const dataTable =\n",
              "            await google.colab.kernel.invokeFunction('convertToInteractive',\n",
              "                                                     [key], {});\n",
              "          if (!dataTable) return;\n",
              "\n",
              "          const docLinkHtml = 'Like what you see? Visit the ' +\n",
              "            '<a target=\"_blank\" href=https://colab.research.google.com/notebooks/data_table.ipynb>data table notebook</a>'\n",
              "            + ' to learn more about interactive tables.';\n",
              "          element.innerHTML = '';\n",
              "          dataTable['output_type'] = 'display_data';\n",
              "          await google.colab.output.renderOutput(dataTable, element);\n",
              "          const docLink = document.createElement('div');\n",
              "          docLink.innerHTML = docLinkHtml;\n",
              "          element.appendChild(docLink);\n",
              "        }\n",
              "      </script>\n",
              "    </div>\n",
              "  </div>\n",
              "  "
            ]
          },
          "metadata": {},
          "execution_count": 19
        }
      ]
    },
    {
      "cell_type": "code",
      "source": [
        "data.describe(include=\"all\").T"
      ],
      "metadata": {
        "colab": {
          "base_uri": "https://localhost:8080/",
          "height": 563
        },
        "id": "dUIRJHP0bWMh",
        "outputId": "83e30e5a-cae3-403f-aa67-2001fec178e7"
      },
      "execution_count": null,
      "outputs": [
        {
          "output_type": "execute_result",
          "data": {
            "text/plain": [
              "                        count unique      top  freq         mean          std  \\\n",
              "brand_name               3454     34   Others   502          NaN          NaN   \n",
              "os                       3454      4  Android  3214          NaN          NaN   \n",
              "screen_size            3454.0    NaN      NaN   NaN    13.713115      3.80528   \n",
              "4g                       3454      2      yes  2335          NaN          NaN   \n",
              "5g                       3454      2       no  3302          NaN          NaN   \n",
              "main_camera_mp         3275.0    NaN      NaN   NaN     9.460208     4.815461   \n",
              "selfie_camera_mp       3452.0    NaN      NaN   NaN     6.554229     6.970372   \n",
              "int_memory             3450.0    NaN      NaN   NaN    54.573099    84.972371   \n",
              "ram                    3450.0    NaN      NaN   NaN     4.036122     1.365105   \n",
              "battery                3448.0    NaN      NaN   NaN  3133.402697  1299.682844   \n",
              "weight                 3447.0    NaN      NaN   NaN   182.751871    88.413228   \n",
              "release_year           3454.0    NaN      NaN   NaN  2015.965258     2.298455   \n",
              "days_used              3454.0    NaN      NaN   NaN   674.869716   248.580166   \n",
              "normalized_used_price  3454.0    NaN      NaN   NaN     4.364712     0.588914   \n",
              "normalized_new_price   3454.0    NaN      NaN   NaN     5.233107     0.683637   \n",
              "\n",
              "                            min       25%       50%       75%       max  \n",
              "brand_name                  NaN       NaN       NaN       NaN       NaN  \n",
              "os                          NaN       NaN       NaN       NaN       NaN  \n",
              "screen_size                5.08      12.7     12.83     15.34     30.71  \n",
              "4g                          NaN       NaN       NaN       NaN       NaN  \n",
              "5g                          NaN       NaN       NaN       NaN       NaN  \n",
              "main_camera_mp             0.08       5.0       8.0      13.0      48.0  \n",
              "selfie_camera_mp            0.0       2.0       5.0       8.0      32.0  \n",
              "int_memory                 0.01      16.0      32.0      64.0    1024.0  \n",
              "ram                        0.02       4.0       4.0       4.0      12.0  \n",
              "battery                   500.0    2100.0    3000.0    4000.0    9720.0  \n",
              "weight                     69.0     142.0     160.0     185.0     855.0  \n",
              "release_year             2013.0    2014.0    2015.5    2018.0    2020.0  \n",
              "days_used                  91.0     533.5     690.5    868.75    1094.0  \n",
              "normalized_used_price  1.536867  4.033931  4.405133    4.7557  6.619433  \n",
              "normalized_new_price   2.901422  4.790342  5.245892  5.673718  7.847841  "
            ],
            "text/html": [
              "\n",
              "  <div id=\"df-f9a3e9fc-12d4-4cc0-95f9-0104561320d9\">\n",
              "    <div class=\"colab-df-container\">\n",
              "      <div>\n",
              "<style scoped>\n",
              "    .dataframe tbody tr th:only-of-type {\n",
              "        vertical-align: middle;\n",
              "    }\n",
              "\n",
              "    .dataframe tbody tr th {\n",
              "        vertical-align: top;\n",
              "    }\n",
              "\n",
              "    .dataframe thead th {\n",
              "        text-align: right;\n",
              "    }\n",
              "</style>\n",
              "<table border=\"1\" class=\"dataframe\">\n",
              "  <thead>\n",
              "    <tr style=\"text-align: right;\">\n",
              "      <th></th>\n",
              "      <th>count</th>\n",
              "      <th>unique</th>\n",
              "      <th>top</th>\n",
              "      <th>freq</th>\n",
              "      <th>mean</th>\n",
              "      <th>std</th>\n",
              "      <th>min</th>\n",
              "      <th>25%</th>\n",
              "      <th>50%</th>\n",
              "      <th>75%</th>\n",
              "      <th>max</th>\n",
              "    </tr>\n",
              "  </thead>\n",
              "  <tbody>\n",
              "    <tr>\n",
              "      <th>brand_name</th>\n",
              "      <td>3454</td>\n",
              "      <td>34</td>\n",
              "      <td>Others</td>\n",
              "      <td>502</td>\n",
              "      <td>NaN</td>\n",
              "      <td>NaN</td>\n",
              "      <td>NaN</td>\n",
              "      <td>NaN</td>\n",
              "      <td>NaN</td>\n",
              "      <td>NaN</td>\n",
              "      <td>NaN</td>\n",
              "    </tr>\n",
              "    <tr>\n",
              "      <th>os</th>\n",
              "      <td>3454</td>\n",
              "      <td>4</td>\n",
              "      <td>Android</td>\n",
              "      <td>3214</td>\n",
              "      <td>NaN</td>\n",
              "      <td>NaN</td>\n",
              "      <td>NaN</td>\n",
              "      <td>NaN</td>\n",
              "      <td>NaN</td>\n",
              "      <td>NaN</td>\n",
              "      <td>NaN</td>\n",
              "    </tr>\n",
              "    <tr>\n",
              "      <th>screen_size</th>\n",
              "      <td>3454.0</td>\n",
              "      <td>NaN</td>\n",
              "      <td>NaN</td>\n",
              "      <td>NaN</td>\n",
              "      <td>13.713115</td>\n",
              "      <td>3.80528</td>\n",
              "      <td>5.08</td>\n",
              "      <td>12.7</td>\n",
              "      <td>12.83</td>\n",
              "      <td>15.34</td>\n",
              "      <td>30.71</td>\n",
              "    </tr>\n",
              "    <tr>\n",
              "      <th>4g</th>\n",
              "      <td>3454</td>\n",
              "      <td>2</td>\n",
              "      <td>yes</td>\n",
              "      <td>2335</td>\n",
              "      <td>NaN</td>\n",
              "      <td>NaN</td>\n",
              "      <td>NaN</td>\n",
              "      <td>NaN</td>\n",
              "      <td>NaN</td>\n",
              "      <td>NaN</td>\n",
              "      <td>NaN</td>\n",
              "    </tr>\n",
              "    <tr>\n",
              "      <th>5g</th>\n",
              "      <td>3454</td>\n",
              "      <td>2</td>\n",
              "      <td>no</td>\n",
              "      <td>3302</td>\n",
              "      <td>NaN</td>\n",
              "      <td>NaN</td>\n",
              "      <td>NaN</td>\n",
              "      <td>NaN</td>\n",
              "      <td>NaN</td>\n",
              "      <td>NaN</td>\n",
              "      <td>NaN</td>\n",
              "    </tr>\n",
              "    <tr>\n",
              "      <th>main_camera_mp</th>\n",
              "      <td>3275.0</td>\n",
              "      <td>NaN</td>\n",
              "      <td>NaN</td>\n",
              "      <td>NaN</td>\n",
              "      <td>9.460208</td>\n",
              "      <td>4.815461</td>\n",
              "      <td>0.08</td>\n",
              "      <td>5.0</td>\n",
              "      <td>8.0</td>\n",
              "      <td>13.0</td>\n",
              "      <td>48.0</td>\n",
              "    </tr>\n",
              "    <tr>\n",
              "      <th>selfie_camera_mp</th>\n",
              "      <td>3452.0</td>\n",
              "      <td>NaN</td>\n",
              "      <td>NaN</td>\n",
              "      <td>NaN</td>\n",
              "      <td>6.554229</td>\n",
              "      <td>6.970372</td>\n",
              "      <td>0.0</td>\n",
              "      <td>2.0</td>\n",
              "      <td>5.0</td>\n",
              "      <td>8.0</td>\n",
              "      <td>32.0</td>\n",
              "    </tr>\n",
              "    <tr>\n",
              "      <th>int_memory</th>\n",
              "      <td>3450.0</td>\n",
              "      <td>NaN</td>\n",
              "      <td>NaN</td>\n",
              "      <td>NaN</td>\n",
              "      <td>54.573099</td>\n",
              "      <td>84.972371</td>\n",
              "      <td>0.01</td>\n",
              "      <td>16.0</td>\n",
              "      <td>32.0</td>\n",
              "      <td>64.0</td>\n",
              "      <td>1024.0</td>\n",
              "    </tr>\n",
              "    <tr>\n",
              "      <th>ram</th>\n",
              "      <td>3450.0</td>\n",
              "      <td>NaN</td>\n",
              "      <td>NaN</td>\n",
              "      <td>NaN</td>\n",
              "      <td>4.036122</td>\n",
              "      <td>1.365105</td>\n",
              "      <td>0.02</td>\n",
              "      <td>4.0</td>\n",
              "      <td>4.0</td>\n",
              "      <td>4.0</td>\n",
              "      <td>12.0</td>\n",
              "    </tr>\n",
              "    <tr>\n",
              "      <th>battery</th>\n",
              "      <td>3448.0</td>\n",
              "      <td>NaN</td>\n",
              "      <td>NaN</td>\n",
              "      <td>NaN</td>\n",
              "      <td>3133.402697</td>\n",
              "      <td>1299.682844</td>\n",
              "      <td>500.0</td>\n",
              "      <td>2100.0</td>\n",
              "      <td>3000.0</td>\n",
              "      <td>4000.0</td>\n",
              "      <td>9720.0</td>\n",
              "    </tr>\n",
              "    <tr>\n",
              "      <th>weight</th>\n",
              "      <td>3447.0</td>\n",
              "      <td>NaN</td>\n",
              "      <td>NaN</td>\n",
              "      <td>NaN</td>\n",
              "      <td>182.751871</td>\n",
              "      <td>88.413228</td>\n",
              "      <td>69.0</td>\n",
              "      <td>142.0</td>\n",
              "      <td>160.0</td>\n",
              "      <td>185.0</td>\n",
              "      <td>855.0</td>\n",
              "    </tr>\n",
              "    <tr>\n",
              "      <th>release_year</th>\n",
              "      <td>3454.0</td>\n",
              "      <td>NaN</td>\n",
              "      <td>NaN</td>\n",
              "      <td>NaN</td>\n",
              "      <td>2015.965258</td>\n",
              "      <td>2.298455</td>\n",
              "      <td>2013.0</td>\n",
              "      <td>2014.0</td>\n",
              "      <td>2015.5</td>\n",
              "      <td>2018.0</td>\n",
              "      <td>2020.0</td>\n",
              "    </tr>\n",
              "    <tr>\n",
              "      <th>days_used</th>\n",
              "      <td>3454.0</td>\n",
              "      <td>NaN</td>\n",
              "      <td>NaN</td>\n",
              "      <td>NaN</td>\n",
              "      <td>674.869716</td>\n",
              "      <td>248.580166</td>\n",
              "      <td>91.0</td>\n",
              "      <td>533.5</td>\n",
              "      <td>690.5</td>\n",
              "      <td>868.75</td>\n",
              "      <td>1094.0</td>\n",
              "    </tr>\n",
              "    <tr>\n",
              "      <th>normalized_used_price</th>\n",
              "      <td>3454.0</td>\n",
              "      <td>NaN</td>\n",
              "      <td>NaN</td>\n",
              "      <td>NaN</td>\n",
              "      <td>4.364712</td>\n",
              "      <td>0.588914</td>\n",
              "      <td>1.536867</td>\n",
              "      <td>4.033931</td>\n",
              "      <td>4.405133</td>\n",
              "      <td>4.7557</td>\n",
              "      <td>6.619433</td>\n",
              "    </tr>\n",
              "    <tr>\n",
              "      <th>normalized_new_price</th>\n",
              "      <td>3454.0</td>\n",
              "      <td>NaN</td>\n",
              "      <td>NaN</td>\n",
              "      <td>NaN</td>\n",
              "      <td>5.233107</td>\n",
              "      <td>0.683637</td>\n",
              "      <td>2.901422</td>\n",
              "      <td>4.790342</td>\n",
              "      <td>5.245892</td>\n",
              "      <td>5.673718</td>\n",
              "      <td>7.847841</td>\n",
              "    </tr>\n",
              "  </tbody>\n",
              "</table>\n",
              "</div>\n",
              "      <button class=\"colab-df-convert\" onclick=\"convertToInteractive('df-f9a3e9fc-12d4-4cc0-95f9-0104561320d9')\"\n",
              "              title=\"Convert this dataframe to an interactive table.\"\n",
              "              style=\"display:none;\">\n",
              "        \n",
              "  <svg xmlns=\"http://www.w3.org/2000/svg\" height=\"24px\"viewBox=\"0 0 24 24\"\n",
              "       width=\"24px\">\n",
              "    <path d=\"M0 0h24v24H0V0z\" fill=\"none\"/>\n",
              "    <path d=\"M18.56 5.44l.94 2.06.94-2.06 2.06-.94-2.06-.94-.94-2.06-.94 2.06-2.06.94zm-11 1L8.5 8.5l.94-2.06 2.06-.94-2.06-.94L8.5 2.5l-.94 2.06-2.06.94zm10 10l.94 2.06.94-2.06 2.06-.94-2.06-.94-.94-2.06-.94 2.06-2.06.94z\"/><path d=\"M17.41 7.96l-1.37-1.37c-.4-.4-.92-.59-1.43-.59-.52 0-1.04.2-1.43.59L10.3 9.45l-7.72 7.72c-.78.78-.78 2.05 0 2.83L4 21.41c.39.39.9.59 1.41.59.51 0 1.02-.2 1.41-.59l7.78-7.78 2.81-2.81c.8-.78.8-2.07 0-2.86zM5.41 20L4 18.59l7.72-7.72 1.47 1.35L5.41 20z\"/>\n",
              "  </svg>\n",
              "      </button>\n",
              "      \n",
              "  <style>\n",
              "    .colab-df-container {\n",
              "      display:flex;\n",
              "      flex-wrap:wrap;\n",
              "      gap: 12px;\n",
              "    }\n",
              "\n",
              "    .colab-df-convert {\n",
              "      background-color: #E8F0FE;\n",
              "      border: none;\n",
              "      border-radius: 50%;\n",
              "      cursor: pointer;\n",
              "      display: none;\n",
              "      fill: #1967D2;\n",
              "      height: 32px;\n",
              "      padding: 0 0 0 0;\n",
              "      width: 32px;\n",
              "    }\n",
              "\n",
              "    .colab-df-convert:hover {\n",
              "      background-color: #E2EBFA;\n",
              "      box-shadow: 0px 1px 2px rgba(60, 64, 67, 0.3), 0px 1px 3px 1px rgba(60, 64, 67, 0.15);\n",
              "      fill: #174EA6;\n",
              "    }\n",
              "\n",
              "    [theme=dark] .colab-df-convert {\n",
              "      background-color: #3B4455;\n",
              "      fill: #D2E3FC;\n",
              "    }\n",
              "\n",
              "    [theme=dark] .colab-df-convert:hover {\n",
              "      background-color: #434B5C;\n",
              "      box-shadow: 0px 1px 3px 1px rgba(0, 0, 0, 0.15);\n",
              "      filter: drop-shadow(0px 1px 2px rgba(0, 0, 0, 0.3));\n",
              "      fill: #FFFFFF;\n",
              "    }\n",
              "  </style>\n",
              "\n",
              "      <script>\n",
              "        const buttonEl =\n",
              "          document.querySelector('#df-f9a3e9fc-12d4-4cc0-95f9-0104561320d9 button.colab-df-convert');\n",
              "        buttonEl.style.display =\n",
              "          google.colab.kernel.accessAllowed ? 'block' : 'none';\n",
              "\n",
              "        async function convertToInteractive(key) {\n",
              "          const element = document.querySelector('#df-f9a3e9fc-12d4-4cc0-95f9-0104561320d9');\n",
              "          const dataTable =\n",
              "            await google.colab.kernel.invokeFunction('convertToInteractive',\n",
              "                                                     [key], {});\n",
              "          if (!dataTable) return;\n",
              "\n",
              "          const docLinkHtml = 'Like what you see? Visit the ' +\n",
              "            '<a target=\"_blank\" href=https://colab.research.google.com/notebooks/data_table.ipynb>data table notebook</a>'\n",
              "            + ' to learn more about interactive tables.';\n",
              "          element.innerHTML = '';\n",
              "          dataTable['output_type'] = 'display_data';\n",
              "          await google.colab.output.renderOutput(dataTable, element);\n",
              "          const docLink = document.createElement('div');\n",
              "          docLink.innerHTML = docLinkHtml;\n",
              "          element.appendChild(docLink);\n",
              "        }\n",
              "      </script>\n",
              "    </div>\n",
              "  </div>\n",
              "  "
            ]
          },
          "metadata": {},
          "execution_count": 20
        }
      ]
    },
    {
      "cell_type": "markdown",
      "source": [
        "# Observations:\n",
        "1. There are 34 different manufacturing brands, 4 different operating systems, 4gs or 5gs have either values yes or no for different phones\n",
        "2. Anroid is overwhelmingly the most popular os, with 3246 phones\n",
        "3. There are 2359 phones that have 4g capability and only 152 phones have 5g capability\n"
      ],
      "metadata": {
        "id": "YUv7r1LzcRaU"
      }
    },
    {
      "cell_type": "code",
      "source": [
        "#Function shows the number of rows and columns of a dataframe\n",
        "data.shape"
      ],
      "metadata": {
        "colab": {
          "base_uri": "https://localhost:8080/"
        },
        "id": "19eA2cBvZX5C",
        "outputId": "f3d9be33-0601-4b61-ced1-ed5dfac5be59"
      },
      "execution_count": null,
      "outputs": [
        {
          "output_type": "execute_result",
          "data": {
            "text/plain": [
              "(3454, 15)"
            ]
          },
          "metadata": {},
          "execution_count": 21
        }
      ]
    },
    {
      "cell_type": "markdown",
      "source": [
        "# Observations:\n",
        "The dataset has 3571 rows and 15 columns"
      ],
      "metadata": {
        "id": "XYdpYWOkZck2"
      }
    },
    {
      "cell_type": "code",
      "source": [
        "#Function shows column datatypes and number of non-null values\n",
        "data.info()"
      ],
      "metadata": {
        "colab": {
          "base_uri": "https://localhost:8080/"
        },
        "id": "v0Jc14C6ZeXH",
        "outputId": "53abc19c-acf5-4b66-bec7-24fb3c8f550f"
      },
      "execution_count": null,
      "outputs": [
        {
          "output_type": "stream",
          "name": "stdout",
          "text": [
            "<class 'pandas.core.frame.DataFrame'>\n",
            "RangeIndex: 3454 entries, 0 to 3453\n",
            "Data columns (total 15 columns):\n",
            " #   Column                 Non-Null Count  Dtype  \n",
            "---  ------                 --------------  -----  \n",
            " 0   brand_name             3454 non-null   object \n",
            " 1   os                     3454 non-null   object \n",
            " 2   screen_size            3454 non-null   float64\n",
            " 3   4g                     3454 non-null   object \n",
            " 4   5g                     3454 non-null   object \n",
            " 5   main_camera_mp         3275 non-null   float64\n",
            " 6   selfie_camera_mp       3452 non-null   float64\n",
            " 7   int_memory             3450 non-null   float64\n",
            " 8   ram                    3450 non-null   float64\n",
            " 9   battery                3448 non-null   float64\n",
            " 10  weight                 3447 non-null   float64\n",
            " 11  release_year           3454 non-null   int64  \n",
            " 12  days_used              3454 non-null   int64  \n",
            " 13  normalized_used_price  3454 non-null   float64\n",
            " 14  normalized_new_price   3454 non-null   float64\n",
            "dtypes: float64(9), int64(2), object(4)\n",
            "memory usage: 404.9+ KB\n"
          ]
        }
      ]
    },
    {
      "cell_type": "markdown",
      "source": [
        "# Observations:\n",
        "1. brand_name, os, 4g and 5g are categorical while all others are numerical data types\n",
        "2. main_camera_mp, selfie_camera_mp, int_memory, ram, battery and weight have missing values (these will need to be addressed)\n",
        "3. used_price is an dependant variable"
      ],
      "metadata": {
        "id": "6a8L1nDqZ9Sd"
      }
    },
    {
      "cell_type": "code",
      "source": [
        "#Funtion to create a copy of the data to avoid any changes to original data\n",
        "df = data.copy()"
      ],
      "metadata": {
        "id": "BZ__bSAcmaBz"
      },
      "execution_count": null,
      "outputs": []
    },
    {
      "cell_type": "code",
      "source": [
        "#Function to convert object data types to category\n",
        "category_col = df.select_dtypes(exclude=np.number).columns.tolist()\n",
        "df[category_col] = df[category_col].astype(\"category\")"
      ],
      "metadata": {
        "id": "kUTQjNm4mfaC"
      },
      "execution_count": null,
      "outputs": []
    },
    {
      "cell_type": "code",
      "source": [
        "#Function to see that all columns are of the right data types\n",
        "df.dtypes"
      ],
      "metadata": {
        "colab": {
          "base_uri": "https://localhost:8080/"
        },
        "id": "HZsQv1x_m8XT",
        "outputId": "9b1dd148-2de8-4970-cf19-61bf557b1de6"
      },
      "execution_count": null,
      "outputs": [
        {
          "output_type": "execute_result",
          "data": {
            "text/plain": [
              "brand_name               category\n",
              "os                       category\n",
              "screen_size               float64\n",
              "4g                       category\n",
              "5g                       category\n",
              "main_camera_mp            float64\n",
              "selfie_camera_mp          float64\n",
              "int_memory                float64\n",
              "ram                       float64\n",
              "battery                   float64\n",
              "weight                    float64\n",
              "release_year                int64\n",
              "days_used                   int64\n",
              "normalized_used_price     float64\n",
              "normalized_new_price      float64\n",
              "dtype: object"
            ]
          },
          "metadata": {},
          "execution_count": 25
        }
      ]
    },
    {
      "cell_type": "code",
      "source": [
        "#Function to check for missing values\n",
        "df.isnull().sum()"
      ],
      "metadata": {
        "colab": {
          "base_uri": "https://localhost:8080/"
        },
        "id": "j4wA9FuZnKHd",
        "outputId": "3753d00d-51b5-483f-8082-4e1ae4f20421"
      },
      "execution_count": null,
      "outputs": [
        {
          "output_type": "execute_result",
          "data": {
            "text/plain": [
              "brand_name                 0\n",
              "os                         0\n",
              "screen_size                0\n",
              "4g                         0\n",
              "5g                         0\n",
              "main_camera_mp           179\n",
              "selfie_camera_mp           2\n",
              "int_memory                 4\n",
              "ram                        4\n",
              "battery                    6\n",
              "weight                     7\n",
              "release_year               0\n",
              "days_used                  0\n",
              "normalized_used_price      0\n",
              "normalized_new_price       0\n",
              "dtype: int64"
            ]
          },
          "metadata": {},
          "execution_count": 26
        }
      ]
    },
    {
      "cell_type": "markdown",
      "source": [
        "# Obsaervations:\n",
        "There are six categories with missing data."
      ],
      "metadata": {
        "id": "cH_YTamokiCP"
      }
    },
    {
      "cell_type": "markdown",
      "source": [
        "# UNIVARIATE ANALYSIS"
      ],
      "metadata": {
        "id": "NhJRWOFWottz"
      }
    },
    {
      "cell_type": "code",
      "source": [
        "#Function to plot a boxplot and a histogram\n",
        "\n",
        "def histogram_boxplot(data, feature, figsize=(12, 7), kde=False, bins=None):\n",
        "    \"\"\"\n",
        "    Boxplot and histogram combined\n",
        "\n",
        "    data: dataframe\n",
        "    feature: dataframe column\n",
        "    figsize: size of figure (default (12,7))\n",
        "    kde: whether to the show density curve (default False)\n",
        "    bins: number of bins for histogram (default None)\n",
        "    \"\"\"\n",
        "    f2, (ax_box2, ax_hist2) = plt.subplots(\n",
        "        nrows=2,\n",
        "        sharex=True,\n",
        "        gridspec_kw={\"height_ratios\": (0.25, 0.75)},\n",
        "        figsize=figsize,\n",
        "    )\n",
        "    sns.boxplot(\n",
        "        data=data, x=feature, ax=ax_box2, showmeans=True, color=\"lightblue\"\n",
        "    )\n",
        "    sns.histplot(\n",
        "        data=data, x=feature, kde=kde, ax=ax_hist2, bins=bins, palette=\"winter\"\n",
        "    ) if bins else sns.histplot(\n",
        "        data=data, x=feature, kde=kde, ax=ax_hist2\n",
        "    )\n",
        "    ax_hist2.axvline(\n",
        "        data[feature].mean(), color=\"red\", linestyle=\"--\"\n",
        "    )\n",
        "    ax_hist2.axvline(\n",
        "        data[feature].median(), color=\"black\", linestyle=\"-\"\n",
        "    )"
      ],
      "metadata": {
        "id": "1ZZC5SGQdple"
      },
      "execution_count": null,
      "outputs": []
    },
    {
      "cell_type": "code",
      "source": [
        "# Function to create labeled barplots\n",
        "def labeled_barplot(data, feature, perc=False, n=None):\n",
        "    \"\"\"\n",
        "    Barplot with percentage at the top\n",
        "\n",
        "    data: dataframe\n",
        "    feature: dataframe column\n",
        "    perc: whether to display percentages instead of count (default is False)\n",
        "    n: displays the top n category levels (default is None, i.e., display all levels)\n",
        "    \"\"\"\n",
        "\n",
        "    total = len(data[feature])\n",
        "    count = data[feature].nunique()\n",
        "    if n is None:\n",
        "        plt.figure(figsize=(count + 1, 5))\n",
        "    else:\n",
        "        plt.figure(figsize=(n + 1, 5))\n",
        "\n",
        "    plt.xticks(rotation=90, fontsize=15)\n",
        "    ax = sns.countplot(\n",
        "        data=data,\n",
        "        x=feature,\n",
        "        palette=\"Paired\",\n",
        "        order=data[feature].value_counts().index[:n].sort_values(),\n",
        "    )\n",
        "\n",
        "    for p in ax.patches:\n",
        "        if perc == True:\n",
        "            label = \"{:.1f}%\".format(\n",
        "                100 * p.get_height() / total\n",
        "            )\n",
        "        else:\n",
        "            label = p.get_height()\n",
        "\n",
        "        x = p.get_x() + p.get_width() / 2\n",
        "        y = p.get_height()\n",
        "        ax.annotate(\n",
        "            label,\n",
        "            (x, y),\n",
        "            ha=\"center\",\n",
        "            va=\"center\",\n",
        "            size=12,\n",
        "            xytext=(0, 5),\n",
        "            textcoords=\"offset points\",\n",
        "        )\n",
        "\n",
        "    plt.show()"
      ],
      "metadata": {
        "id": "1FSRM72Vd8wF"
      },
      "execution_count": null,
      "outputs": []
    },
    {
      "cell_type": "code",
      "source": [
        "#Funtion to verify used and new price are normal distribtions\n",
        "histogram_boxplot(df, \"normalized_used_price\", kde=True)"
      ],
      "metadata": {
        "id": "YURe-oW9eTmQ"
      },
      "execution_count": null,
      "outputs": []
    },
    {
      "cell_type": "markdown",
      "source": [
        "# Observations:\n",
        "The mean and median used phone prices seem to be very similar and normally distributed"
      ],
      "metadata": {
        "id": "-Y5uqxCSfzD-"
      }
    },
    {
      "cell_type": "code",
      "source": [
        "#Funtion to verify used and new price are normal distribtions\n",
        "histogram_boxplot(df, \"normalized_new_price\", kde=True)"
      ],
      "metadata": {
        "id": "gkqQXWDHeVGR"
      },
      "execution_count": null,
      "outputs": []
    },
    {
      "cell_type": "markdown",
      "source": [
        "Obervations:\n",
        "The mean and median new phone prices appear to be sinilar and normally distributed"
      ],
      "metadata": {
        "id": "Dat-R69kiZBD"
      }
    },
    {
      "cell_type": "code",
      "source": [
        "#Plot histogram and boxplot of screen_size\n",
        "histogram_boxplot(df, \"screen_size\")"
      ],
      "metadata": {
        "id": "woMAQQxpqL3p"
      },
      "execution_count": null,
      "outputs": []
    },
    {
      "cell_type": "markdown",
      "source": [
        "Observations:\n",
        "\n",
        "The distribution is rightly skewed with outliers on both sides It has a median of about 14cm"
      ],
      "metadata": {
        "id": "tb_1HMszqU4W"
      }
    },
    {
      "cell_type": "code",
      "source": [
        "#Plot histogram and boxplot of battery\n",
        "histogram_boxplot(df, \"battery\")"
      ],
      "metadata": {
        "id": "hxRBg8Auhd0O"
      },
      "execution_count": null,
      "outputs": []
    },
    {
      "cell_type": "markdown",
      "source": [
        "# Observations:\n",
        "\n",
        "Battery capacity is almost a normal distribution It has some outliers It has a median and mean around 3000 mAh"
      ],
      "metadata": {
        "id": "jijKg8u_pf1f"
      }
    },
    {
      "cell_type": "code",
      "source": [
        "#Plot histogram and boxplot of weight\n",
        "histogram_boxplot(df, \"weight\")"
      ],
      "metadata": {
        "id": "t1kDZCX0pqlL"
      },
      "execution_count": null,
      "outputs": []
    },
    {
      "cell_type": "markdown",
      "source": [
        "# Observations:\n",
        "\n",
        "The graph shows a right skewed distribution with a lot of outliers"
      ],
      "metadata": {
        "id": "0byXWVXxp5uN"
      }
    },
    {
      "cell_type": "code",
      "source": [
        "#Plot histogram and boxplot of days_used\n",
        "histogram_boxplot(df, \"days_used\")"
      ],
      "metadata": {
        "id": "tsMRUEy0qGCG"
      },
      "execution_count": null,
      "outputs": []
    },
    {
      "cell_type": "markdown",
      "source": [
        "# Observations:\n",
        "\n",
        "The distribution is skewed to the left and has a median of about 695 and a mean around 680 days."
      ],
      "metadata": {
        "id": "vVA68wh-qwBG"
      }
    },
    {
      "cell_type": "code",
      "source": [
        "#Plot barplot of brand_name with percentage showing on each bar\n",
        "labeled_barplot(df, \"brand_name\", perc=True)"
      ],
      "metadata": {
        "id": "PnoyPpP4rEvh"
      },
      "execution_count": null,
      "outputs": []
    },
    {
      "cell_type": "markdown",
      "source": [
        "# Observations:\n",
        "Most of the phones in the dataset are those with no known brand name Samsung is the highest represented known brand followed by Huawei"
      ],
      "metadata": {
        "id": "7h9Ic6QTr3H9"
      }
    },
    {
      "cell_type": "code",
      "source": [
        "#Plot barplot of os with percentage showing on each bar\n",
        "labeled_barplot(df, \"os\", perc=True)"
      ],
      "metadata": {
        "id": "VRBTwa2MsCjA"
      },
      "execution_count": null,
      "outputs": []
    },
    {
      "cell_type": "markdown",
      "source": [
        "Observations:\n",
        "\n",
        "Android OS are seen to be 93.1% and IOS has the least percetage of 1.0%"
      ],
      "metadata": {
        "id": "CNH2LxmLsNSV"
      }
    },
    {
      "cell_type": "code",
      "source": [
        "#Plot barplot of 4g\n",
        "labeled_barplot(df, \"4g\", perc=True)"
      ],
      "metadata": {
        "id": "hXdljm3XsYBD"
      },
      "execution_count": null,
      "outputs": []
    },
    {
      "cell_type": "markdown",
      "source": [
        "# Observations:\n",
        "Most phones seem to have 4G functionality at 67.6%"
      ],
      "metadata": {
        "id": "-RxdznlPmMMw"
      }
    },
    {
      "cell_type": "code",
      "source": [
        "#Plot barplot of 5g\n",
        "labeled_barplot(df, \"5g\", perc=True)"
      ],
      "metadata": {
        "id": "bkWpKiI-siYo"
      },
      "execution_count": null,
      "outputs": []
    },
    {
      "cell_type": "markdown",
      "source": [
        "## Observations:\n",
        "Very few phones have 5G functionality at 4.4%"
      ],
      "metadata": {
        "id": "VCHoaB0Lmpvl"
      }
    },
    {
      "cell_type": "code",
      "source": [
        "#Check number of unique RAM\n",
        "df[\"ram\"].nunique()"
      ],
      "metadata": {
        "id": "cGSX0gYWsqyK"
      },
      "execution_count": null,
      "outputs": []
    },
    {
      "cell_type": "markdown",
      "source": [
        "# Observations:\n",
        "There are 12 unigue entries for phone RAM"
      ],
      "metadata": {
        "id": "chBpIVNwm2Uz"
      }
    },
    {
      "cell_type": "code",
      "source": [
        "#Plot barplot of ram with percentage shown\n",
        "labeled_barplot(df, \"ram\", perc=True)"
      ],
      "metadata": {
        "id": "X_bMIwYIsw3v"
      },
      "execution_count": null,
      "outputs": []
    },
    {
      "cell_type": "markdown",
      "source": [
        "Observations:\n",
        "Most phones have 4.0MB of RAM"
      ],
      "metadata": {
        "id": "rSpiyqGYsdKn"
      }
    },
    {
      "cell_type": "code",
      "source": [
        "#Plot barplot of release_year with percentage shown\n",
        "labeled_barplot(df, \"release_year\", perc=True)"
      ],
      "metadata": {
        "id": "fT_W5ktetIuh"
      },
      "execution_count": null,
      "outputs": []
    },
    {
      "cell_type": "markdown",
      "source": [
        "Observations:\n",
        "The phone model year seems fairly evenly distributed"
      ],
      "metadata": {
        "id": "uDdob36rtdLs"
      }
    },
    {
      "cell_type": "code",
      "source": [
        "#Plot barplot of int_memory with percentage showing on each bar\n",
        "labeled_barplot(df, \"int_memory\", perc=True)"
      ],
      "metadata": {
        "id": "gTSsj_4Otayz"
      },
      "execution_count": null,
      "outputs": []
    },
    {
      "cell_type": "markdown",
      "source": [
        "# Observations:\n",
        "Internal memory is most common at 16MB at 37.1% followed closely by 32MB at 31.4%"
      ],
      "metadata": {
        "id": "0u7PuP_fywwT"
      }
    },
    {
      "cell_type": "code",
      "source": [
        "#Function to find the mean of phone ram in each brand\n",
        "df.groupby(\"brand_name\")[\"ram\"].mean()"
      ],
      "metadata": {
        "id": "j9TgbC83uQlu"
      },
      "execution_count": null,
      "outputs": []
    },
    {
      "cell_type": "code",
      "source": [
        "#Plot barplot of ram\n",
        "labeled_barplot(df, \"ram\", perc=True)"
      ],
      "metadata": {
        "id": "LjxEWD5Kukj_"
      },
      "execution_count": null,
      "outputs": []
    },
    {
      "cell_type": "markdown",
      "source": [
        "Observations:\n",
        "The overall phone RAM is in the 4.0MB range at 81.5%"
      ],
      "metadata": {
        "id": "rYbLaJCCz4Op"
      }
    },
    {
      "cell_type": "code",
      "source": [
        "#Barplot of main phone camera\n",
        "labeled_barplot(df, \"main_camera_mp\", perc=True)"
      ],
      "metadata": {
        "id": "dMX_q4DYtvje"
      },
      "execution_count": null,
      "outputs": []
    },
    {
      "cell_type": "markdown",
      "source": [
        "# Observations:\n",
        "The main cameras are in the 13MP category at 22.9%\n"
      ],
      "metadata": {
        "id": "FuHC5yLszWqH"
      }
    },
    {
      "cell_type": "code",
      "source": [
        "#Barplot of selfie camera\n",
        "labeled_barplot(df, \"selfie_camera_mp\", perc=True)"
      ],
      "metadata": {
        "id": "D_De5G35uCFz"
      },
      "execution_count": null,
      "outputs": []
    },
    {
      "cell_type": "markdown",
      "source": [
        "# Observations:\n",
        "Most cameras have a 5MP selfie camera at 22.9%"
      ],
      "metadata": {
        "id": "wFnRP5CE07Tr"
      }
    },
    {
      "cell_type": "markdown",
      "source": [
        "# BIVARIATE ANALYSIS"
      ],
      "metadata": {
        "id": "8bKo_r4-uLB0"
      }
    },
    {
      "cell_type": "code",
      "source": [
        "#Funtion to find the mean of phone ram in each brand\n",
        "df.groupby(\"brand_name\")[\"ram\"].mean()"
      ],
      "metadata": {
        "id": "YoTeozcm2Sq_"
      },
      "execution_count": null,
      "outputs": []
    },
    {
      "cell_type": "code",
      "source": [
        "#Function to determine corelation\n",
        "numeric_columns = df.select_dtypes(include=np.number).columns.tolist()\n",
        "\n",
        "\n",
        "# correlation heatmap\n",
        "plt.figure(figsize=(15, 7))\n",
        "sns.heatmap(\n",
        "    df[numeric_columns].corr(),\n",
        "    annot=True,\n",
        "    vmin=-1,\n",
        "    vmax=1,\n",
        "    fmt=\".2f\",\n",
        "    cmap=\"Spectral\"\n",
        ")\n",
        "plt.show()"
      ],
      "metadata": {
        "id": "-SqOsLim2Y1b"
      },
      "execution_count": null,
      "outputs": []
    },
    {
      "cell_type": "markdown",
      "source": [
        "Observations:\n",
        "\n",
        "There is a high correlation with screen size and battery where the used phones tend to cost more possible due to battery replacement\n",
        "\n",
        "The used price is highly correlated with new price which means the higher the new price the higher the used price is\n",
        "\n",
        "The release year is moderately corrrelated with used price which means the earlier released phone cost more\n",
        "\n",
        "The size of the selfie camera and main camera shows a moderate correlation in the used price indicating the higher resolution phones cost more\n",
        "\n",
        "The screen size shows moderate corelation indicating the phones with larger screens cost more in the used market"
      ],
      "metadata": {
        "id": "9LB6Hy493Aim"
      }
    },
    {
      "cell_type": "markdown",
      "source": [
        "# Fixing Missing Column Data"
      ],
      "metadata": {
        "id": "WEi8_-Tl61bJ"
      }
    },
    {
      "cell_type": "code",
      "source": [
        "#Function to check for missing values\n",
        "df.isnull().sum()"
      ],
      "metadata": {
        "id": "s2SQggfX3OEc"
      },
      "execution_count": null,
      "outputs": []
    },
    {
      "cell_type": "code",
      "source": [
        "#We're going to fill the missing columns with the median values for those columns\n",
        "col_to_fill = [\n",
        "    \"main_camera_mp\",\n",
        "    \"selfie_camera_mp\",\n",
        "    \"int_memory\",\n",
        "    \"ram\",\n",
        "    \"battery\",\n",
        "    \"weight\",\n",
        "]\n",
        "\n",
        "df[col_to_fill] = df[col_to_fill].apply(lambda x: x.fillna(x.median()), axis=0)"
      ],
      "metadata": {
        "id": "VJZRYNUK7EO6"
      },
      "execution_count": null,
      "outputs": []
    },
    {
      "cell_type": "code",
      "source": [
        "#Function to recheck the number of missing values\n",
        "df.isnull().sum()"
      ],
      "metadata": {
        "id": "jgAE_Nfc7X4K"
      },
      "execution_count": null,
      "outputs": []
    },
    {
      "cell_type": "markdown",
      "source": [
        "Missing data has been addressed"
      ],
      "metadata": {
        "id": "j74j3GMV790z"
      }
    },
    {
      "cell_type": "markdown",
      "source": [
        "# Create Dummy Values for Categorical Columns"
      ],
      "metadata": {
        "id": "fyC8P6Dt-Alo"
      }
    },
    {
      "cell_type": "code",
      "source": [
        "#Function to create dummy variables for the categorical variables\n",
        "df1 = pd.get_dummies(df, columns=[\"brand_name\", \"os\", \"4g\", \"5g\"], drop_first=True)"
      ],
      "metadata": {
        "id": "bMyUV_7H92rb"
      },
      "execution_count": null,
      "outputs": []
    },
    {
      "cell_type": "markdown",
      "source": [],
      "metadata": {
        "id": "1ptgolXM1W6Y"
      }
    },
    {
      "cell_type": "code",
      "source": [
        "#New dataframe containing the dummy categorical variables\n",
        "df1.head()"
      ],
      "metadata": {
        "colab": {
          "base_uri": "https://localhost:8080/",
          "height": 270
        },
        "id": "tGAmDL-b-5yp",
        "outputId": "ecb79561-c0b3-4760-a057-943ddc9d395f"
      },
      "execution_count": null,
      "outputs": [
        {
          "output_type": "execute_result",
          "data": {
            "text/plain": [
              "   screen_size  main_camera_mp  selfie_camera_mp  int_memory  ram  battery  \\\n",
              "0        14.50            13.0               5.0        64.0  3.0   3020.0   \n",
              "1        17.30            13.0              16.0       128.0  8.0   4300.0   \n",
              "2        16.69            13.0               8.0       128.0  8.0   4200.0   \n",
              "3        25.50            13.0               8.0        64.0  6.0   7250.0   \n",
              "4        15.32            13.0               8.0        64.0  3.0   5000.0   \n",
              "\n",
              "   weight  release_year  days_used  normalized_used_price  \\\n",
              "0   146.0          2020        127               4.307572   \n",
              "1   213.0          2020        325               5.162097   \n",
              "2   213.0          2020        162               5.111084   \n",
              "3   480.0          2020        345               5.135387   \n",
              "4   185.0          2020        293               4.389995   \n",
              "\n",
              "   normalized_new_price  brand_name_Alcatel  brand_name_Apple  \\\n",
              "0              4.715100                   0                 0   \n",
              "1              5.519018                   0                 0   \n",
              "2              5.884631                   0                 0   \n",
              "3              5.630961                   0                 0   \n",
              "4              4.947837                   0                 0   \n",
              "\n",
              "   brand_name_Asus  brand_name_BlackBerry  brand_name_Celkon  \\\n",
              "0                0                      0                  0   \n",
              "1                0                      0                  0   \n",
              "2                0                      0                  0   \n",
              "3                0                      0                  0   \n",
              "4                0                      0                  0   \n",
              "\n",
              "   brand_name_Coolpad  brand_name_Gionee  brand_name_Google  brand_name_HTC  \\\n",
              "0                   0                  0                  0               0   \n",
              "1                   0                  0                  0               0   \n",
              "2                   0                  0                  0               0   \n",
              "3                   0                  0                  0               0   \n",
              "4                   0                  0                  0               0   \n",
              "\n",
              "   brand_name_Honor  brand_name_Huawei  brand_name_Infinix  \\\n",
              "0                 1                  0                   0   \n",
              "1                 1                  0                   0   \n",
              "2                 1                  0                   0   \n",
              "3                 1                  0                   0   \n",
              "4                 1                  0                   0   \n",
              "\n",
              "   brand_name_Karbonn  brand_name_LG  brand_name_Lava  brand_name_Lenovo  \\\n",
              "0                   0              0                0                  0   \n",
              "1                   0              0                0                  0   \n",
              "2                   0              0                0                  0   \n",
              "3                   0              0                0                  0   \n",
              "4                   0              0                0                  0   \n",
              "\n",
              "   brand_name_Meizu  brand_name_Micromax  brand_name_Microsoft  \\\n",
              "0                 0                    0                     0   \n",
              "1                 0                    0                     0   \n",
              "2                 0                    0                     0   \n",
              "3                 0                    0                     0   \n",
              "4                 0                    0                     0   \n",
              "\n",
              "   brand_name_Motorola  brand_name_Nokia  brand_name_OnePlus  brand_name_Oppo  \\\n",
              "0                    0                 0                   0                0   \n",
              "1                    0                 0                   0                0   \n",
              "2                    0                 0                   0                0   \n",
              "3                    0                 0                   0                0   \n",
              "4                    0                 0                   0                0   \n",
              "\n",
              "   brand_name_Others  brand_name_Panasonic  brand_name_Realme  \\\n",
              "0                  0                     0                  0   \n",
              "1                  0                     0                  0   \n",
              "2                  0                     0                  0   \n",
              "3                  0                     0                  0   \n",
              "4                  0                     0                  0   \n",
              "\n",
              "   brand_name_Samsung  brand_name_Sony  brand_name_Spice  brand_name_Vivo  \\\n",
              "0                   0                0                 0                0   \n",
              "1                   0                0                 0                0   \n",
              "2                   0                0                 0                0   \n",
              "3                   0                0                 0                0   \n",
              "4                   0                0                 0                0   \n",
              "\n",
              "   brand_name_XOLO  brand_name_Xiaomi  brand_name_ZTE  os_Others  os_Windows  \\\n",
              "0                0                  0               0          0           0   \n",
              "1                0                  0               0          0           0   \n",
              "2                0                  0               0          0           0   \n",
              "3                0                  0               0          0           0   \n",
              "4                0                  0               0          0           0   \n",
              "\n",
              "   os_iOS  4g_yes  5g_yes  \n",
              "0       0       1       0  \n",
              "1       0       1       1  \n",
              "2       0       1       1  \n",
              "3       0       1       1  \n",
              "4       0       1       0  "
            ],
            "text/html": [
              "\n",
              "  <div id=\"df-f15e3c1e-7b79-404f-aa17-120c2a59e5d5\">\n",
              "    <div class=\"colab-df-container\">\n",
              "      <div>\n",
              "<style scoped>\n",
              "    .dataframe tbody tr th:only-of-type {\n",
              "        vertical-align: middle;\n",
              "    }\n",
              "\n",
              "    .dataframe tbody tr th {\n",
              "        vertical-align: top;\n",
              "    }\n",
              "\n",
              "    .dataframe thead th {\n",
              "        text-align: right;\n",
              "    }\n",
              "</style>\n",
              "<table border=\"1\" class=\"dataframe\">\n",
              "  <thead>\n",
              "    <tr style=\"text-align: right;\">\n",
              "      <th></th>\n",
              "      <th>screen_size</th>\n",
              "      <th>main_camera_mp</th>\n",
              "      <th>selfie_camera_mp</th>\n",
              "      <th>int_memory</th>\n",
              "      <th>ram</th>\n",
              "      <th>battery</th>\n",
              "      <th>weight</th>\n",
              "      <th>release_year</th>\n",
              "      <th>days_used</th>\n",
              "      <th>normalized_used_price</th>\n",
              "      <th>normalized_new_price</th>\n",
              "      <th>brand_name_Alcatel</th>\n",
              "      <th>brand_name_Apple</th>\n",
              "      <th>brand_name_Asus</th>\n",
              "      <th>brand_name_BlackBerry</th>\n",
              "      <th>brand_name_Celkon</th>\n",
              "      <th>brand_name_Coolpad</th>\n",
              "      <th>brand_name_Gionee</th>\n",
              "      <th>brand_name_Google</th>\n",
              "      <th>brand_name_HTC</th>\n",
              "      <th>brand_name_Honor</th>\n",
              "      <th>brand_name_Huawei</th>\n",
              "      <th>brand_name_Infinix</th>\n",
              "      <th>brand_name_Karbonn</th>\n",
              "      <th>brand_name_LG</th>\n",
              "      <th>brand_name_Lava</th>\n",
              "      <th>brand_name_Lenovo</th>\n",
              "      <th>brand_name_Meizu</th>\n",
              "      <th>brand_name_Micromax</th>\n",
              "      <th>brand_name_Microsoft</th>\n",
              "      <th>brand_name_Motorola</th>\n",
              "      <th>brand_name_Nokia</th>\n",
              "      <th>brand_name_OnePlus</th>\n",
              "      <th>brand_name_Oppo</th>\n",
              "      <th>brand_name_Others</th>\n",
              "      <th>brand_name_Panasonic</th>\n",
              "      <th>brand_name_Realme</th>\n",
              "      <th>brand_name_Samsung</th>\n",
              "      <th>brand_name_Sony</th>\n",
              "      <th>brand_name_Spice</th>\n",
              "      <th>brand_name_Vivo</th>\n",
              "      <th>brand_name_XOLO</th>\n",
              "      <th>brand_name_Xiaomi</th>\n",
              "      <th>brand_name_ZTE</th>\n",
              "      <th>os_Others</th>\n",
              "      <th>os_Windows</th>\n",
              "      <th>os_iOS</th>\n",
              "      <th>4g_yes</th>\n",
              "      <th>5g_yes</th>\n",
              "    </tr>\n",
              "  </thead>\n",
              "  <tbody>\n",
              "    <tr>\n",
              "      <th>0</th>\n",
              "      <td>14.50</td>\n",
              "      <td>13.0</td>\n",
              "      <td>5.0</td>\n",
              "      <td>64.0</td>\n",
              "      <td>3.0</td>\n",
              "      <td>3020.0</td>\n",
              "      <td>146.0</td>\n",
              "      <td>2020</td>\n",
              "      <td>127</td>\n",
              "      <td>4.307572</td>\n",
              "      <td>4.715100</td>\n",
              "      <td>0</td>\n",
              "      <td>0</td>\n",
              "      <td>0</td>\n",
              "      <td>0</td>\n",
              "      <td>0</td>\n",
              "      <td>0</td>\n",
              "      <td>0</td>\n",
              "      <td>0</td>\n",
              "      <td>0</td>\n",
              "      <td>1</td>\n",
              "      <td>0</td>\n",
              "      <td>0</td>\n",
              "      <td>0</td>\n",
              "      <td>0</td>\n",
              "      <td>0</td>\n",
              "      <td>0</td>\n",
              "      <td>0</td>\n",
              "      <td>0</td>\n",
              "      <td>0</td>\n",
              "      <td>0</td>\n",
              "      <td>0</td>\n",
              "      <td>0</td>\n",
              "      <td>0</td>\n",
              "      <td>0</td>\n",
              "      <td>0</td>\n",
              "      <td>0</td>\n",
              "      <td>0</td>\n",
              "      <td>0</td>\n",
              "      <td>0</td>\n",
              "      <td>0</td>\n",
              "      <td>0</td>\n",
              "      <td>0</td>\n",
              "      <td>0</td>\n",
              "      <td>0</td>\n",
              "      <td>0</td>\n",
              "      <td>0</td>\n",
              "      <td>1</td>\n",
              "      <td>0</td>\n",
              "    </tr>\n",
              "    <tr>\n",
              "      <th>1</th>\n",
              "      <td>17.30</td>\n",
              "      <td>13.0</td>\n",
              "      <td>16.0</td>\n",
              "      <td>128.0</td>\n",
              "      <td>8.0</td>\n",
              "      <td>4300.0</td>\n",
              "      <td>213.0</td>\n",
              "      <td>2020</td>\n",
              "      <td>325</td>\n",
              "      <td>5.162097</td>\n",
              "      <td>5.519018</td>\n",
              "      <td>0</td>\n",
              "      <td>0</td>\n",
              "      <td>0</td>\n",
              "      <td>0</td>\n",
              "      <td>0</td>\n",
              "      <td>0</td>\n",
              "      <td>0</td>\n",
              "      <td>0</td>\n",
              "      <td>0</td>\n",
              "      <td>1</td>\n",
              "      <td>0</td>\n",
              "      <td>0</td>\n",
              "      <td>0</td>\n",
              "      <td>0</td>\n",
              "      <td>0</td>\n",
              "      <td>0</td>\n",
              "      <td>0</td>\n",
              "      <td>0</td>\n",
              "      <td>0</td>\n",
              "      <td>0</td>\n",
              "      <td>0</td>\n",
              "      <td>0</td>\n",
              "      <td>0</td>\n",
              "      <td>0</td>\n",
              "      <td>0</td>\n",
              "      <td>0</td>\n",
              "      <td>0</td>\n",
              "      <td>0</td>\n",
              "      <td>0</td>\n",
              "      <td>0</td>\n",
              "      <td>0</td>\n",
              "      <td>0</td>\n",
              "      <td>0</td>\n",
              "      <td>0</td>\n",
              "      <td>0</td>\n",
              "      <td>0</td>\n",
              "      <td>1</td>\n",
              "      <td>1</td>\n",
              "    </tr>\n",
              "    <tr>\n",
              "      <th>2</th>\n",
              "      <td>16.69</td>\n",
              "      <td>13.0</td>\n",
              "      <td>8.0</td>\n",
              "      <td>128.0</td>\n",
              "      <td>8.0</td>\n",
              "      <td>4200.0</td>\n",
              "      <td>213.0</td>\n",
              "      <td>2020</td>\n",
              "      <td>162</td>\n",
              "      <td>5.111084</td>\n",
              "      <td>5.884631</td>\n",
              "      <td>0</td>\n",
              "      <td>0</td>\n",
              "      <td>0</td>\n",
              "      <td>0</td>\n",
              "      <td>0</td>\n",
              "      <td>0</td>\n",
              "      <td>0</td>\n",
              "      <td>0</td>\n",
              "      <td>0</td>\n",
              "      <td>1</td>\n",
              "      <td>0</td>\n",
              "      <td>0</td>\n",
              "      <td>0</td>\n",
              "      <td>0</td>\n",
              "      <td>0</td>\n",
              "      <td>0</td>\n",
              "      <td>0</td>\n",
              "      <td>0</td>\n",
              "      <td>0</td>\n",
              "      <td>0</td>\n",
              "      <td>0</td>\n",
              "      <td>0</td>\n",
              "      <td>0</td>\n",
              "      <td>0</td>\n",
              "      <td>0</td>\n",
              "      <td>0</td>\n",
              "      <td>0</td>\n",
              "      <td>0</td>\n",
              "      <td>0</td>\n",
              "      <td>0</td>\n",
              "      <td>0</td>\n",
              "      <td>0</td>\n",
              "      <td>0</td>\n",
              "      <td>0</td>\n",
              "      <td>0</td>\n",
              "      <td>0</td>\n",
              "      <td>1</td>\n",
              "      <td>1</td>\n",
              "    </tr>\n",
              "    <tr>\n",
              "      <th>3</th>\n",
              "      <td>25.50</td>\n",
              "      <td>13.0</td>\n",
              "      <td>8.0</td>\n",
              "      <td>64.0</td>\n",
              "      <td>6.0</td>\n",
              "      <td>7250.0</td>\n",
              "      <td>480.0</td>\n",
              "      <td>2020</td>\n",
              "      <td>345</td>\n",
              "      <td>5.135387</td>\n",
              "      <td>5.630961</td>\n",
              "      <td>0</td>\n",
              "      <td>0</td>\n",
              "      <td>0</td>\n",
              "      <td>0</td>\n",
              "      <td>0</td>\n",
              "      <td>0</td>\n",
              "      <td>0</td>\n",
              "      <td>0</td>\n",
              "      <td>0</td>\n",
              "      <td>1</td>\n",
              "      <td>0</td>\n",
              "      <td>0</td>\n",
              "      <td>0</td>\n",
              "      <td>0</td>\n",
              "      <td>0</td>\n",
              "      <td>0</td>\n",
              "      <td>0</td>\n",
              "      <td>0</td>\n",
              "      <td>0</td>\n",
              "      <td>0</td>\n",
              "      <td>0</td>\n",
              "      <td>0</td>\n",
              "      <td>0</td>\n",
              "      <td>0</td>\n",
              "      <td>0</td>\n",
              "      <td>0</td>\n",
              "      <td>0</td>\n",
              "      <td>0</td>\n",
              "      <td>0</td>\n",
              "      <td>0</td>\n",
              "      <td>0</td>\n",
              "      <td>0</td>\n",
              "      <td>0</td>\n",
              "      <td>0</td>\n",
              "      <td>0</td>\n",
              "      <td>0</td>\n",
              "      <td>1</td>\n",
              "      <td>1</td>\n",
              "    </tr>\n",
              "    <tr>\n",
              "      <th>4</th>\n",
              "      <td>15.32</td>\n",
              "      <td>13.0</td>\n",
              "      <td>8.0</td>\n",
              "      <td>64.0</td>\n",
              "      <td>3.0</td>\n",
              "      <td>5000.0</td>\n",
              "      <td>185.0</td>\n",
              "      <td>2020</td>\n",
              "      <td>293</td>\n",
              "      <td>4.389995</td>\n",
              "      <td>4.947837</td>\n",
              "      <td>0</td>\n",
              "      <td>0</td>\n",
              "      <td>0</td>\n",
              "      <td>0</td>\n",
              "      <td>0</td>\n",
              "      <td>0</td>\n",
              "      <td>0</td>\n",
              "      <td>0</td>\n",
              "      <td>0</td>\n",
              "      <td>1</td>\n",
              "      <td>0</td>\n",
              "      <td>0</td>\n",
              "      <td>0</td>\n",
              "      <td>0</td>\n",
              "      <td>0</td>\n",
              "      <td>0</td>\n",
              "      <td>0</td>\n",
              "      <td>0</td>\n",
              "      <td>0</td>\n",
              "      <td>0</td>\n",
              "      <td>0</td>\n",
              "      <td>0</td>\n",
              "      <td>0</td>\n",
              "      <td>0</td>\n",
              "      <td>0</td>\n",
              "      <td>0</td>\n",
              "      <td>0</td>\n",
              "      <td>0</td>\n",
              "      <td>0</td>\n",
              "      <td>0</td>\n",
              "      <td>0</td>\n",
              "      <td>0</td>\n",
              "      <td>0</td>\n",
              "      <td>0</td>\n",
              "      <td>0</td>\n",
              "      <td>0</td>\n",
              "      <td>1</td>\n",
              "      <td>0</td>\n",
              "    </tr>\n",
              "  </tbody>\n",
              "</table>\n",
              "</div>\n",
              "      <button class=\"colab-df-convert\" onclick=\"convertToInteractive('df-f15e3c1e-7b79-404f-aa17-120c2a59e5d5')\"\n",
              "              title=\"Convert this dataframe to an interactive table.\"\n",
              "              style=\"display:none;\">\n",
              "        \n",
              "  <svg xmlns=\"http://www.w3.org/2000/svg\" height=\"24px\"viewBox=\"0 0 24 24\"\n",
              "       width=\"24px\">\n",
              "    <path d=\"M0 0h24v24H0V0z\" fill=\"none\"/>\n",
              "    <path d=\"M18.56 5.44l.94 2.06.94-2.06 2.06-.94-2.06-.94-.94-2.06-.94 2.06-2.06.94zm-11 1L8.5 8.5l.94-2.06 2.06-.94-2.06-.94L8.5 2.5l-.94 2.06-2.06.94zm10 10l.94 2.06.94-2.06 2.06-.94-2.06-.94-.94-2.06-.94 2.06-2.06.94z\"/><path d=\"M17.41 7.96l-1.37-1.37c-.4-.4-.92-.59-1.43-.59-.52 0-1.04.2-1.43.59L10.3 9.45l-7.72 7.72c-.78.78-.78 2.05 0 2.83L4 21.41c.39.39.9.59 1.41.59.51 0 1.02-.2 1.41-.59l7.78-7.78 2.81-2.81c.8-.78.8-2.07 0-2.86zM5.41 20L4 18.59l7.72-7.72 1.47 1.35L5.41 20z\"/>\n",
              "  </svg>\n",
              "      </button>\n",
              "      \n",
              "  <style>\n",
              "    .colab-df-container {\n",
              "      display:flex;\n",
              "      flex-wrap:wrap;\n",
              "      gap: 12px;\n",
              "    }\n",
              "\n",
              "    .colab-df-convert {\n",
              "      background-color: #E8F0FE;\n",
              "      border: none;\n",
              "      border-radius: 50%;\n",
              "      cursor: pointer;\n",
              "      display: none;\n",
              "      fill: #1967D2;\n",
              "      height: 32px;\n",
              "      padding: 0 0 0 0;\n",
              "      width: 32px;\n",
              "    }\n",
              "\n",
              "    .colab-df-convert:hover {\n",
              "      background-color: #E2EBFA;\n",
              "      box-shadow: 0px 1px 2px rgba(60, 64, 67, 0.3), 0px 1px 3px 1px rgba(60, 64, 67, 0.15);\n",
              "      fill: #174EA6;\n",
              "    }\n",
              "\n",
              "    [theme=dark] .colab-df-convert {\n",
              "      background-color: #3B4455;\n",
              "      fill: #D2E3FC;\n",
              "    }\n",
              "\n",
              "    [theme=dark] .colab-df-convert:hover {\n",
              "      background-color: #434B5C;\n",
              "      box-shadow: 0px 1px 3px 1px rgba(0, 0, 0, 0.15);\n",
              "      filter: drop-shadow(0px 1px 2px rgba(0, 0, 0, 0.3));\n",
              "      fill: #FFFFFF;\n",
              "    }\n",
              "  </style>\n",
              "\n",
              "      <script>\n",
              "        const buttonEl =\n",
              "          document.querySelector('#df-f15e3c1e-7b79-404f-aa17-120c2a59e5d5 button.colab-df-convert');\n",
              "        buttonEl.style.display =\n",
              "          google.colab.kernel.accessAllowed ? 'block' : 'none';\n",
              "\n",
              "        async function convertToInteractive(key) {\n",
              "          const element = document.querySelector('#df-f15e3c1e-7b79-404f-aa17-120c2a59e5d5');\n",
              "          const dataTable =\n",
              "            await google.colab.kernel.invokeFunction('convertToInteractive',\n",
              "                                                     [key], {});\n",
              "          if (!dataTable) return;\n",
              "\n",
              "          const docLinkHtml = 'Like what you see? Visit the ' +\n",
              "            '<a target=\"_blank\" href=https://colab.research.google.com/notebooks/data_table.ipynb>data table notebook</a>'\n",
              "            + ' to learn more about interactive tables.';\n",
              "          element.innerHTML = '';\n",
              "          dataTable['output_type'] = 'display_data';\n",
              "          await google.colab.output.renderOutput(dataTable, element);\n",
              "          const docLink = document.createElement('div');\n",
              "          docLink.innerHTML = docLinkHtml;\n",
              "          element.appendChild(docLink);\n",
              "        }\n",
              "      </script>\n",
              "    </div>\n",
              "  </div>\n",
              "  "
            ]
          },
          "metadata": {},
          "execution_count": 31
        }
      ]
    },
    {
      "cell_type": "code",
      "source": [
        "#Outliers boxplots of all numerical columns\n",
        "plt.figure(figsize=(20, 30))\n",
        "\n",
        "for i, var in enumerate(df.select_dtypes(include=np.number).columns.tolist()):\n",
        "    plt.subplot(5, 4, i + 1)\n",
        "    plt.boxplot(df[var], whis=1.5)\n",
        "    plt.tight_layout()\n",
        "    plt.title(var)\n",
        "\n",
        "plt.show()"
      ],
      "metadata": {
        "colab": {
          "base_uri": "https://localhost:8080/",
          "height": 912
        },
        "id": "edsgOTPs_Sq2",
        "outputId": "ad3ea9d3-bcb3-4094-9f36-4b71709b4770"
      },
      "execution_count": null,
      "outputs": [
        {
          "output_type": "display_data",
          "data": {
            "text/plain": [
              "<Figure size 2000x3000 with 11 Axes>"
            ],
            "image/png": "[encoded data removed]"
          },
          "metadata": {}
        }
      ]
    },
    {
      "cell_type": "markdown",
      "source": [
        "# Observations:\n",
        "Outliers are present in all the numerical columns except for days used and release year.\n",
        "\n",
        "Because of this we will not treat the outliers, treating the outliers may lead to loss of information."
      ],
      "metadata": {
        "id": "TzzxNjKX_-Et"
      }
    },
    {
      "cell_type": "markdown",
      "source": [
        "# Linear Regression Model\n"
      ],
      "metadata": {
        "id": "eTPkgFg4AwHi"
      }
    },
    {
      "cell_type": "code",
      "source": [
        "#Define X and y variables\n",
        "X = df1.drop([\"normalized_used_price\"], axis=1)\n",
        "y = df1[\"normalized_used_price\"]"
      ],
      "metadata": {
        "id": "cdYLFmwTARvc",
        "colab": {
          "base_uri": "https://localhost:8080/",
          "height": 205
        },
        "outputId": "aeca536b-b30c-4625-a3eb-6f9e57f6e859"
      },
      "execution_count": null,
      "outputs": [
        {
          "output_type": "error",
          "ename": "NameError",
          "evalue": "ignored",
          "traceback": [
            "\u001b[0;31m---------------------------------------------------------------------------\u001b[0m",
            "\u001b[0;31mNameError\u001b[0m                                 Traceback (most recent call last)",
            "\u001b[0;32m<ipython-input-5-5f512df8315c>\u001b[0m in \u001b[0;36m<cell line: 2>\u001b[0;34m()\u001b[0m\n\u001b[1;32m      1\u001b[0m \u001b[0;31m#Define X and y variables\u001b[0m\u001b[0;34m\u001b[0m\u001b[0;34m\u001b[0m\u001b[0m\n\u001b[0;32m----> 2\u001b[0;31m \u001b[0mX\u001b[0m \u001b[0;34m=\u001b[0m \u001b[0mdf1\u001b[0m\u001b[0;34m.\u001b[0m\u001b[0mdrop\u001b[0m\u001b[0;34m(\u001b[0m\u001b[0;34m[\u001b[0m\u001b[0;34m\"normalized_used_price\"\u001b[0m\u001b[0;34m]\u001b[0m\u001b[0;34m,\u001b[0m \u001b[0maxis\u001b[0m\u001b[0;34m=\u001b[0m\u001b[0;36m1\u001b[0m\u001b[0;34m)\u001b[0m\u001b[0;34m\u001b[0m\u001b[0;34m\u001b[0m\u001b[0m\n\u001b[0m\u001b[1;32m      3\u001b[0m \u001b[0my\u001b[0m \u001b[0;34m=\u001b[0m \u001b[0mdf1\u001b[0m\u001b[0;34m[\u001b[0m\u001b[0;34m\"normalized_used_price\"\u001b[0m\u001b[0;34m]\u001b[0m\u001b[0;34m\u001b[0m\u001b[0;34m\u001b[0m\u001b[0m\n",
            "\u001b[0;31mNameError\u001b[0m: name 'df1' is not defined"
          ]
        }
      ]
    },
    {
      "cell_type": "code",
      "source": [
        "#Function to view independent variables\n",
        "X.head()"
      ],
      "metadata": {
        "id": "0zE4i8faBd6D"
      },
      "execution_count": null,
      "outputs": []
    },
    {
      "cell_type": "code",
      "source": [
        "#Function to view independent variables\n",
        "y.head()"
      ],
      "metadata": {
        "id": "1rcDKKqcBm9q"
      },
      "execution_count": null,
      "outputs": []
    },
    {
      "cell_type": "code",
      "source": [
        "#Dividing the data in 70:30 ratio for train to test data\n",
        "X_train, X_test, y_train, y_test = train_test_split(\n",
        "    X, y, test_size=0.30, random_state=42\n",
        ")"
      ],
      "metadata": {
        "id": "wkISBctdB1CW"
      },
      "execution_count": null,
      "outputs": []
    },
    {
      "cell_type": "code",
      "source": [
        "#Function to check shape of the train and test data\n",
        "print(\"Number of rows in train data =\", X_train.shape[0])\n",
        "print(\"Number of rows in test data =\", X_test.shape[0])"
      ],
      "metadata": {
        "id": "VumdbiHcCFCi"
      },
      "execution_count": null,
      "outputs": []
    },
    {
      "cell_type": "code",
      "source": [
        "#LinearRegression function\n",
        "linearregression = LinearRegression()\n",
        "#Fitting the dependent and independent train data\n",
        "linearregression.fit(X_train, y_train)"
      ],
      "metadata": {
        "id": "0glGMCkACvtq"
      },
      "execution_count": null,
      "outputs": []
    },
    {
      "cell_type": "code",
      "source": [],
      "metadata": {
        "id": "HDEdxV4lqgRc"
      },
      "execution_count": null,
      "outputs": []
    },
    {
      "cell_type": "code",
      "source": [
        "#Function showing model coefficients and intercept\n",
        "coef_df = pd.DataFrame(\n",
        "    np.append(linearregression.coef_, linearregression.intercept_),\n",
        "    index=X_train.columns.tolist() + [\"Intercept\"],\n",
        "    columns=[\"Coefficients\"],\n",
        ")\n",
        "\n",
        "coef_df"
      ],
      "metadata": {
        "id": "FDRit9jHDFnu"
      },
      "execution_count": null,
      "outputs": []
    },
    {
      "cell_type": "markdown",
      "source": [
        "# Model Performance Evaluation"
      ],
      "metadata": {
        "id": "9j32MVvoEtc8"
      }
    },
    {
      "cell_type": "code",
      "source": [
        "# function to compute adjusted R-squared\n",
        "def adj_r2_score(predictors, targets, predictions):\n",
        "    r2 = r2_score(targets, predictions)\n",
        "    n = predictors.shape[0]\n",
        "    k = predictors.shape[1]\n",
        "    return 1 - ((1 - r2) * (n - 1) / (n - k - 1))\n",
        "\n",
        "# function to compute MAPE\n",
        "def mape_score(targets, predictions):\n",
        "    return np.mean(np.abs(targets - predictions) / targets) * 100\n",
        "\n",
        "# function to compute different metrics to check performance of a regression model\n",
        "def model_performance_regression(model, predictors, target):\n",
        "    \"\"\"\n",
        "    Function to compute different metrics to check regression model performance\n",
        "\n",
        "    model: regressor\n",
        "    predictors: independent variables\n",
        "    target: dependent variable\n",
        "    \"\"\"\n",
        "\n",
        "    # predicting using the independent variables\n",
        "    pred = model.predict(predictors)\n",
        "\n",
        "    r2 = r2_score(target, pred)  # to compute R-squared\n",
        "    adjr2 = adj_r2_score(predictors, target, pred)  # to compute adjusted R-squared\n",
        "    rmse = np.sqrt(mean_squared_error(target, pred))  # to compute RMSE\n",
        "    mae = mean_absolute_error(target, pred)  # to compute MAE\n",
        "    mape = mape_score(target, pred)  # to compute MAPE\n",
        "\n",
        "    # creating a dataframe of metrics\n",
        "    df_perf = pd.DataFrame(\n",
        "        {\n",
        "            \"RMSE\": rmse,\n",
        "            \"MAE\": mae,\n",
        "            \"R-squared\": r2,\n",
        "            \"Adj. R-squared\": adjr2,\n",
        "            \"MAPE\": mape,\n",
        "        },\n",
        "        index=[0],\n",
        "    )\n",
        "\n",
        "    return df_perf"
      ],
      "metadata": {
        "id": "E5EZSmOJGR4u"
      },
      "execution_count": null,
      "outputs": []
    },
    {
      "cell_type": "code",
      "source": [
        "#Checking model performance on 70% train set\n",
        "print(\"Training Performance\\n\")\n",
        "linearregression_train_perf = model_performance_regression(linearregression, X_train, y_train)\n",
        "linearregression_train_perf"
      ],
      "metadata": {
        "id": "xDPFVmHnGZXD"
      },
      "execution_count": null,
      "outputs": []
    },
    {
      "cell_type": "code",
      "source": [
        "#Checking model performance on 30% test set\n",
        "print(\"Test Performance\\n\")\n",
        "linearregression_test_perf = model_performance_regression(\n",
        "    linearregression, X_test, y_test\n",
        ")\n",
        "linearregression_test_perf"
      ],
      "metadata": {
        "id": "ye_6PDzUHTCL"
      },
      "execution_count": null,
      "outputs": []
    },
    {
      "cell_type": "markdown",
      "source": [
        "# Observations:\n",
        "The training is 0.84, indicating that the model explains approx. 84% of the variation in the train data. So, the model is not underfitting\n",
        "\n",
        "MAE (0.178, 0.188) and RMSE (0.230, 0.238) on the train and test sets are comparable, which shows that the model is not overfitting\n",
        "\n",
        "MAE indicates that our current model is able to predict used_price within a mean error of 0.188 on the test data\n",
        "\n",
        "MAPE on the test set suggests we can predict within 4.50% of used_price\n",
        "\n",
        "One could remove the columns days_used, weight and internal_memory (low correlations) to see if there are improvements in the R-squared value"
      ],
      "metadata": {
        "id": "ILegYhb3EskS"
      }
    },
    {
      "cell_type": "markdown",
      "source": [
        "# Evaluating Dataset with Statsmodel Funtion"
      ],
      "metadata": {
        "id": "SpKehgodI0nY"
      }
    },
    {
      "cell_type": "code",
      "source": [
        "#Statsmodels function does not add a constant to the data on its own and must add the constant manually\n",
        "X_train1 = sm.add_constant(X_train)\n",
        "#Adding constant to the test data\n",
        "X_test1 = sm.add_constant(X_test)\n",
        "\n",
        "olsmod0 = sm.OLS(y_train, X_train1).fit()\n",
        "print(olsmod0.summary())"
      ],
      "metadata": {
        "id": "shElSX35HPN0",
        "colab": {
          "base_uri": "https://localhost:8080/",
          "height": 241
        },
        "outputId": "8990ac19-4341-4ffb-e830-f05a7795d972"
      },
      "execution_count": null,
      "outputs": [
        {
          "output_type": "error",
          "ename": "NameError",
          "evalue": "ignored",
          "traceback": [
            "\u001b[0;31m---------------------------------------------------------------------------\u001b[0m",
            "\u001b[0;31mNameError\u001b[0m                                 Traceback (most recent call last)",
            "\u001b[0;32m<ipython-input-4-11f47470e073>\u001b[0m in \u001b[0;36m<cell line: 2>\u001b[0;34m()\u001b[0m\n\u001b[1;32m      1\u001b[0m \u001b[0;31m#Statsmodels function does not add a constant to the data on its own and must add the constant manually\u001b[0m\u001b[0;34m\u001b[0m\u001b[0;34m\u001b[0m\u001b[0m\n\u001b[0;32m----> 2\u001b[0;31m \u001b[0mX_train1\u001b[0m \u001b[0;34m=\u001b[0m \u001b[0msm\u001b[0m\u001b[0;34m.\u001b[0m\u001b[0madd_constant\u001b[0m\u001b[0;34m(\u001b[0m\u001b[0mX_train\u001b[0m\u001b[0;34m)\u001b[0m\u001b[0;34m\u001b[0m\u001b[0;34m\u001b[0m\u001b[0m\n\u001b[0m\u001b[1;32m      3\u001b[0m \u001b[0;31m#Adding constant to the test data\u001b[0m\u001b[0;34m\u001b[0m\u001b[0;34m\u001b[0m\u001b[0m\n\u001b[1;32m      4\u001b[0m \u001b[0mX_test1\u001b[0m \u001b[0;34m=\u001b[0m \u001b[0msm\u001b[0m\u001b[0;34m.\u001b[0m\u001b[0madd_constant\u001b[0m\u001b[0;34m(\u001b[0m\u001b[0mX_test\u001b[0m\u001b[0;34m)\u001b[0m\u001b[0;34m\u001b[0m\u001b[0;34m\u001b[0m\u001b[0m\n\u001b[1;32m      5\u001b[0m \u001b[0;34m\u001b[0m\u001b[0m\n",
            "\u001b[0;31mNameError\u001b[0m: name 'sm' is not defined"
          ]
        }
      ]
    },
    {
      "cell_type": "markdown",
      "source": [
        "# Observations:\n",
        "\n",
        "1. Negative values of the coefficient show that used_price decreases with the increase of corresponding attribute value\n",
        "\n",
        "2. Positive values of the coefficient show that used_price increases with the increase of corresponding attribute value\n",
        "\n",
        "3. The p-value of a variable indicates it's significance. If we consider the significance level to be 0.05. Any variable with a p-value less than 0.05 would be considered significant\n",
        "\n",
        "4. However, these variables might contain multicollinearity, which will affect the p-values. We will need to deal with multicollinearity and then look at the p-values"
      ],
      "metadata": {
        "id": "mMSvtgmMKi1z"
      }
    },
    {
      "cell_type": "markdown",
      "source": [
        "# Test for Multicollinearity\n",
        "\n",
        "General Rule of thumb:\n",
        "\n",
        "If VIF is between 1 and 5, then there is low multicollinearity. If VIF is between 5 and 10, we say there is moderate multicollinearity. If VIF is exceeding 10, it shows signs of high multicollinearity.\n"
      ],
      "metadata": {
        "id": "xOYOllwnOTh0"
      }
    },
    {
      "cell_type": "code",
      "source": [],
      "metadata": {
        "id": "SraEDRJKsd58"
      },
      "execution_count": null,
      "outputs": []
    },
    {
      "cell_type": "code",
      "source": [
        "from statsmodels.stats.outliers_influence import variance_inflation_factor\n",
        "\n",
        "#unction to check VIF\n",
        "def checking_vif(predictors):\n",
        "    vif = pd.DataFrame()\n",
        "    vif[\"feature\"] = predictors.columns\n",
        "\n",
        "    #Calculating VIF for each feature\n",
        "    vif[\"VIF\"] = [variance_inflation_factor(predictors.values, i) for i in range(len(predictors.columns))]\n",
        "    return vif"
      ],
      "metadata": {
        "id": "2rZwQZhCKhyV"
      },
      "execution_count": null,
      "outputs": []
    },
    {
      "cell_type": "code",
      "source": [
        "checking_vif(X_train1)"
      ],
      "metadata": {
        "id": "F66KUi5ePQvk",
        "colab": {
          "base_uri": "https://localhost:8080/",
          "height": 169
        },
        "outputId": "f5e04e0f-30ce-4b56-d2db-10a9cc467e41"
      },
      "execution_count": null,
      "outputs": [
        {
          "output_type": "error",
          "ename": "NameError",
          "evalue": "ignored",
          "traceback": [
            "\u001b[0;31m---------------------------------------------------------------------------\u001b[0m",
            "\u001b[0;31mNameError\u001b[0m                                 Traceback (most recent call last)",
            "\u001b[0;32m<ipython-input-3-31921d01d273>\u001b[0m in \u001b[0;36m<cell line: 1>\u001b[0;34m()\u001b[0m\n\u001b[0;32m----> 1\u001b[0;31m \u001b[0mchecking_vif\u001b[0m\u001b[0;34m(\u001b[0m\u001b[0mX_train1\u001b[0m\u001b[0;34m)\u001b[0m\u001b[0;34m\u001b[0m\u001b[0;34m\u001b[0m\u001b[0m\n\u001b[0m",
            "\u001b[0;31mNameError\u001b[0m: name 'X_train1' is not defined"
          ]
        }
      ]
    },
    {
      "cell_type": "markdown",
      "source": [
        "# Observations:\n",
        "As predicted from the correlation heat map screen_size and weight are potential columns to remove with high VIF values\n",
        "\n",
        "# Course of Action to Remove Multicollinearity\n",
        "1. We will drop every column one by one that has a VIF score greater than 5\n",
        "\n",
        "2. Look at the adjusted R-squared and RMSE of all these models\n",
        "\n",
        "3. Drop the variable that makes the least change in adjusted R-squared\n",
        "\n",
        "4. Check the VIF scores again\n",
        "\n",
        "5. Continue till you get all VIF scores under 5"
      ],
      "metadata": {
        "id": "sCoDgC9PQpbU"
      }
    },
    {
      "cell_type": "code",
      "source": [
        "def treating_multicollinearity(predictors, target, high_vif_columns):\n",
        "    \"\"\"\n",
        "    Checking the effect of dropping the columns showing high multicollinearity\n",
        "    on model performance (adj. R-squared and RMSE)\n",
        "\n",
        "    predictors: independent variables\n",
        "    target: dependent variable\n",
        "    high_vif_columns: columns having high VIF\n",
        "    \"\"\"\n",
        "    #Function to create empty lists to store adj. R-squared and RMSE values\n",
        "    adj_r2 = []\n",
        "    rmse = []\n",
        "\n",
        "    #Funtion to build ols models by dropping one of the high VIF columns at a time\n",
        "    #Funtion to store the adjusted R-squared and RMSE in the lists defined previously\n",
        "    for cols in high_vif_columns:\n",
        "        #Defining the new train set\n",
        "        train = predictors.loc[:, ~predictors.columns.str.startswith(cols)]\n",
        "\n",
        "        #Createing the model\n",
        "        olsmodel = sm.OLS(target, train).fit()\n",
        "\n",
        "        #Adding adj. R-squared and RMSE to the lists\n",
        "        adj_r2.append(olsmodel.rsquared_adj)\n",
        "        rmse.append(np.sqrt(olsmodel.mse_resid))\n",
        "\n",
        "    #Creating a dataframe for the results\n",
        "    provisional = pd.DataFrame(\n",
        "        {\n",
        "            \"col\": high_vif_columns,\n",
        "            \"Adj. R-squared after_dropping col\": adj_r2,\n",
        "            \"RMSE after dropping col\": rmse,\n",
        "        }\n",
        "    ).sort_values(by=\"Adj. R-squared after_dropping col\", ascending=False)\n",
        "    provisional.reset_index(drop=True, inplace=True)\n",
        "\n",
        "    return provisional"
      ],
      "metadata": {
        "id": "nfliRNtuRtRw"
      },
      "execution_count": null,
      "outputs": []
    },
    {
      "cell_type": "code",
      "source": [
        "col_list = [\n",
        "    \"screen_size\",\n",
        "    \"weight\",\n",
        "    \"brand_name_LG\",\n",
        "    \"brand_Samsung\",\n",
        "]\n",
        "\n",
        "res = treating_multicollinearity(X_train1, y_train, col_list)\n",
        "res"
      ],
      "metadata": {
        "id": "KwQxos-PVA-m"
      },
      "execution_count": null,
      "outputs": []
    },
    {
      "cell_type": "code",
      "source": [
        "#Drop screen_size column\n",
        "col_to_drop = \"brand_Samsung\"\n",
        "X_train2 = X_train1.loc[:, ~X_train1.columns.str.startswith(col_to_drop)]\n",
        "X_test2 = X_test1.loc[:, ~X_test1.columns.str.startswith(col_to_drop)]\n",
        "\n",
        "#Check VIF now\n",
        "vif = checking_vif(X_train2)\n",
        "print(\"VIF after dropping \", col_to_drop)\n",
        "vif"
      ],
      "metadata": {
        "id": "PqjF1hfbXMrW"
      },
      "execution_count": null,
      "outputs": []
    },
    {
      "cell_type": "code",
      "source": [
        "#Drop os_iOS, screen_size, brand_name_Samsung columns\n",
        "col_to_drop = \"brand_name_LG\",\"brand_name_Samsung\", \"brand_name_Huawei\"\n",
        "X_train2 = X_train1.loc[:, ~X_train1.columns.str.startswith(col_to_drop)]\n",
        "X_test2 = X_test1.loc[:, ~X_test1.columns.str.startswith(col_to_drop)]\n",
        "\n",
        "#Check VIF now\n",
        "vif = checking_vif(X_train2)\n",
        "print(\"VIF after dropping \", col_to_drop)\n",
        "vif"
      ],
      "metadata": {
        "id": "ImW4JDk6WzB0"
      },
      "execution_count": null,
      "outputs": []
    },
    {
      "cell_type": "markdown",
      "source": [
        "The VIF numbers indicate no multicollinearity and the assumption is satisfied"
      ],
      "metadata": {
        "id": "ahi3BFjpj87t"
      }
    },
    {
      "cell_type": "code",
      "source": [
        "#Next we check the model performance\n",
        "olsmod1 = sm.OLS(y_train, X_train2).fit()\n",
        "print(olsmod1.summary())"
      ],
      "metadata": {
        "id": "C2Ij4Fr9j8jd"
      },
      "execution_count": null,
      "outputs": []
    },
    {
      "cell_type": "markdown",
      "source": [
        "# Observations:\n",
        "We can see that adj. R-squared has remained approx. same 0.844 for the train set dataset, which shows that the dropped column os_iOS, screen_size, brand_name_Samsung  did not have much effect on the model\n",
        "\n",
        "As there is no multicollinearity, we can look at the p-values of predictor variables to check their significance\n",
        "\n",
        "Columns main_camera_mp, selfie_camera_mp, weight, ram, release_year and normalized_new_price have p-value > 0.05 thus are not significant. we will drop those variables. Because p-values can change after dropping a variable, we will not drop all variables at once. Instead, we will do the following:\n",
        "1. Build a model to check the p-values of the variables, and drop the column with the highest p-value\n",
        "2. Create a new model without the dropped feature, check the p-values of the variables, and drop the column with the highest p-value\n",
        "3. Repeat the above two steps till there are no columns with p-value > 0.05"
      ],
      "metadata": {
        "id": "i7sRvr0YnPEL"
      }
    },
    {
      "cell_type": "code",
      "source": [
        "#Creating an initial list of columns\n",
        "cols = X_train2.columns.tolist()\n",
        "\n",
        "#Establishing an initial max p-value\n",
        "max_p_value = 1\n",
        "\n",
        "while len(cols) > 0:\n",
        "    #Defining the train set\n",
        "    X_train_aux = X_train2[cols]\n",
        "\n",
        "    #Fitting the model\n",
        "    model = sm.OLS(y_train, X_train_aux).fit()\n",
        "\n",
        "    #Acquiring the p-values and the maximum p-value\n",
        "    p_values = model.pvalues\n",
        "    max_p_value = max(p_values)\n",
        "\n",
        "    #Acquiring the name of the variable with maximum p-value\n",
        "    feature_with_p_max = p_values.idxmax()\n",
        "\n",
        "    if max_p_value > 0.05:\n",
        "        cols.remove(feature_with_p_max)\n",
        "    else:\n",
        "        break\n",
        "\n",
        "selected_features = cols\n",
        "print(selected_features)"
      ],
      "metadata": {
        "id": "-FruyMdUqUps"
      },
      "execution_count": null,
      "outputs": []
    },
    {
      "cell_type": "code",
      "source": [
        "X_train3 = X_train2[selected_features]\n",
        "X_test3 = X_test2[selected_features]"
      ],
      "metadata": {
        "id": "ypbMhTKrrK4s"
      },
      "execution_count": null,
      "outputs": []
    },
    {
      "cell_type": "code",
      "source": [
        "olsmod2 = sm.OLS(y_train, X_train3).fit()\n",
        "print(olsmod2.summary())"
      ],
      "metadata": {
        "id": "5_YsJqTPrTcw"
      },
      "execution_count": null,
      "outputs": []
    },
    {
      "cell_type": "markdown",
      "source": [
        "Now no feature has p-value greater than 0.05, so we'll consider the features in X_train3 as the final ones and olsmod2 as final model"
      ],
      "metadata": {
        "id": "GzS2EtRCr090"
      }
    },
    {
      "cell_type": "markdown",
      "source": [
        "# Observations:\n",
        "\n",
        "Now adjusted R-squared is 0.842, which is similar to the initial training data at .849. This shows that the variables we dropped were not affecting the model"
      ],
      "metadata": {
        "id": "PtsVQmSqsBM8"
      }
    },
    {
      "cell_type": "markdown",
      "source": [
        "# TEST FOR LINEARITY AND INDEPENDENCE\n",
        "\n",
        "Linearity describes a straight-line relationship between two variables, predictor variables must have a linear relation with the dependent variable.\n",
        "If the residuals are not independent, then the confidence intervals of the coefficient estimates will be narrower and make us incorrectly conclude a parameter to be statistically significant"
      ],
      "metadata": {
        "id": "Z1XLolfSthKE"
      }
    },
    {
      "cell_type": "markdown",
      "source": [
        "Check for linearity and independence-\n",
        "\n",
        "1. Make a plot of fitted values vs residuals\n",
        "2. The model is linear and residuals are independent if they don't follow any pattern\n",
        "3. The model is showing signs of non-linearity and residuals are not independent if the above condition is not met"
      ],
      "metadata": {
        "id": "HTXOkXPWt53N"
      }
    },
    {
      "cell_type": "code",
      "source": [
        "#Create a dataframe with actual, fitted and residual values\n",
        "df_pred = pd.DataFrame()\n",
        "\n",
        "df_pred[\"Actual Values\"] = y_train  # actual values\n",
        "df_pred[\"Fitted Values\"] = olsmod2.fittedvalues  # predicted values\n",
        "df_pred[\"Residuals\"] = olsmod2.resid  # residuals\n",
        "\n",
        "df_pred.head()"
      ],
      "metadata": {
        "id": "VKKx1VN4r6KZ"
      },
      "execution_count": null,
      "outputs": []
    },
    {
      "cell_type": "code",
      "source": [
        "#Plot the fitted values vs residuals\n",
        "sns.residplot(data=df_pred, x=\"Fitted Values\", y=\"Residuals\", color=\"blue\", lowess=True)\n",
        "plt.xlabel(\"Fitted Values\")\n",
        "plt.ylabel(\"Residuals\")\n",
        "plt.title(\"Fitted vs Residual plot\")\n",
        "plt.show()"
      ],
      "metadata": {
        "id": "9vPOJ4D8tz2X"
      },
      "execution_count": null,
      "outputs": []
    },
    {
      "cell_type": "markdown",
      "source": [
        "We see a very faint \"U\" pattern in the plot of residuals vs fitted values, however, this may be considered negligible given the range of residuals is very close to 0. The pattern may indicate that the model has some non linear dependancies and may be improved by transforming the columns or better defined by non-linear models"
      ],
      "metadata": {
        "id": "60Y80GdpvM6b"
      }
    },
    {
      "cell_type": "markdown",
      "source": [
        "\n",
        "# Test for Normality\n",
        "1. Error terms, or residuals, should be normally distributed. If the error terms are not normally distributed, confidence intervals of the coefficient estimates may become too wide or narrow. Once confidence interval becomes unstable, it leads to difficulty in estimating coefficients based on minimization of least squares. Non-normality suggests that there are a few unusual data points that must be studied closely to make a better model\n",
        "\n",
        "2. The shape of the histogram of residuals can give an initial idea about the normality\n",
        "\n",
        "3. It can also be checked via a Q-Q plot of residuals. If the residuals follow a normal distribution, they will make a straight line plot, otherwise not"
      ],
      "metadata": {
        "id": "GdGAAm4bvxEI"
      }
    },
    {
      "cell_type": "code",
      "source": [
        "sns.histplot(data=df_pred, x=\"Residuals\", kde=True)\n",
        "plt.title(\"Normality of residuals\")\n",
        "plt.show()"
      ],
      "metadata": {
        "id": "VxNI15JEuzjV"
      },
      "execution_count": null,
      "outputs": []
    },
    {
      "cell_type": "code",
      "source": [
        "import pylab\n",
        "import scipy.stats as stats\n",
        "\n",
        "stats.probplot(df_pred[\"Residuals\"], dist=\"norm\", plot=pylab)\n",
        "plt.show()"
      ],
      "metadata": {
        "id": "FNl2a8Tfwe6F"
      },
      "execution_count": null,
      "outputs": []
    },
    {
      "cell_type": "markdown",
      "source": [
        "The residuals are mostly following  a straight line except for the tails\n",
        "Let's check the results of the Shapiro-Wilk test"
      ],
      "metadata": {
        "id": "l6kXL3XwwhSV"
      }
    },
    {
      "cell_type": "code",
      "source": [
        "stats.shapiro(df_pred[\"Residuals\"])"
      ],
      "metadata": {
        "id": "pH4s6vCWwvmJ"
      },
      "execution_count": null,
      "outputs": []
    },
    {
      "cell_type": "markdown",
      "source": [
        "1. Since p-value < 0.05, the residuals are not normal as per the Shapiro-Wilk test\n",
        "2. Strictly speaking, the residuals are not normal\n",
        "However, as an approximation, we can accept this distribution as close to being normal\n",
        "\n",
        "The assumption is satisfied"
      ],
      "metadata": {
        "id": "CB0JoePQw5oc"
      }
    },
    {
      "cell_type": "markdown",
      "source": [
        "# Test for Homoscedasticity\n",
        "Homoscedascity: If the variance of the residuals is symmetrically distributed across the regression line, then the data is said to be homoscedastic\n",
        "\n",
        "Heteroscedascity: If the variance is unequal for the residuals across the regression line, then the data is said to be heteroscedastic\n",
        "\n",
        "The goldfeldquandt test can also be used. If we get a p-value > 0.05 we can say that the residuals are homoscedastic. Otherwise, they are heteroscedastic"
      ],
      "metadata": {
        "id": "U5tiXKNexSNt"
      }
    },
    {
      "cell_type": "code",
      "source": [
        "#Goldfeldquandt test for homoscedasticity\n",
        "import statsmodels.stats.api as sms\n",
        "from statsmodels.compat import lzip\n",
        "\n",
        "name = [\"F statistic\", \"p-value\"]\n",
        "test = sms.het_goldfeldquandt(df_pred[\"Residuals\"], X_train3)\n",
        "lzip(name, test)"
      ],
      "metadata": {
        "id": "_SLpQn-cxEzi"
      },
      "execution_count": null,
      "outputs": []
    },
    {
      "cell_type": "markdown",
      "source": [
        "Since p-value > 0.05, we can say that the residuals are homoscedastic. So, this assumption is satisfied"
      ],
      "metadata": {
        "id": "gV3_vVYXyMtr"
      }
    },
    {
      "cell_type": "code",
      "source": [
        "#Predictions on the test set\n",
        "pred = olsmod2.predict(X_test3)\n",
        "\n",
        "df_pred_test = pd.DataFrame({\"Actual\": y_test**(3), \"Predicted\": pred**(3)})\n",
        "print(\"Sample of Actual and Predicted used_price by the ML model (in €)\")\n",
        "df_pred_test.sample(10, random_state=1)"
      ],
      "metadata": {
        "id": "Vm4K7Ux2yPKH"
      },
      "execution_count": null,
      "outputs": []
    },
    {
      "cell_type": "markdown",
      "source": [
        "We can observe here that our model has returned good prediction results, and the actual and predicted used_price are comparable, although there is further scope for improvement\n",
        "\n",
        "We can also visualize the comparison result with the following bar graph"
      ],
      "metadata": {
        "id": "4-60fAn-zTdd"
      }
    },
    {
      "cell_type": "code",
      "source": [
        "df2 = df_pred_test.sample(25, random_state=1)\n",
        "df2.plot(kind=\"bar\", figsize=(15, 7))\n",
        "plt.show()"
      ],
      "metadata": {
        "id": "GoItyiuay-gF"
      },
      "execution_count": null,
      "outputs": []
    },
    {
      "cell_type": "code",
      "source": [
        "#Checking model performance on train set\n",
        "print(\"Training Performance\\n\")\n",
        "olsmod2_train_perf = model_performance_regression(olsmod2, X_train3, y_train)\n",
        "olsmod2_train_perf"
      ],
      "metadata": {
        "id": "ZP1fngpbzh5h"
      },
      "execution_count": null,
      "outputs": []
    },
    {
      "cell_type": "code",
      "source": [
        "#Checking model performance on test set\n",
        "print(\"Test Performance\\n\")\n",
        "olsmod2_test_perf = model_performance_regression(olsmod2, X_test3, y_test)\n",
        "olsmod2_test_perf"
      ],
      "metadata": {
        "id": "BuMHPNB-zv_-"
      },
      "execution_count": null,
      "outputs": []
    },
    {
      "cell_type": "markdown",
      "source": [
        "# Observations:\n",
        "1. The model is able to explain ~84% of the variation in the data, which is very good\n",
        "\n",
        "2. The train and test RMSE and MAE ~0.235 and ~0.239 are low and comparable. So, our model is not suffering from overfitting\n",
        "\n",
        "3. The MAPE on the test set suggests we can predict within 4.5% of used_price\n",
        "\n",
        "4. Hence, we can conclude the model olsmod2 is good for prediction as well as inference purposes"
      ],
      "metadata": {
        "id": "_iMNsaJQ0Ayi"
      }
    },
    {
      "cell_type": "code",
      "source": [
        "#Training performance comparison\n",
        "models_train_comp_df = pd.concat(\n",
        "    [linearregression_train_perf.T, olsmod2_train_perf.T],\n",
        "    axis=1,\n",
        ")\n",
        "\n",
        "models_train_comp_df.columns = [\n",
        "    \"Linear Regression sklearn\",\n",
        "    \"Linear Regression statsmodels\",\n",
        "]\n",
        "\n",
        "print(\"Training performance comparison:\")\n",
        "models_train_comp_df"
      ],
      "metadata": {
        "id": "J43X7h_H0id-"
      },
      "execution_count": null,
      "outputs": []
    },
    {
      "cell_type": "code",
      "source": [
        "#Test performance comparison\n",
        "models_test_comp_df = pd.concat(\n",
        "    [linearregression_test_perf.T, olsmod2_test_perf.T],\n",
        "    axis=1,\n",
        ")\n",
        "\n",
        "models_test_comp_df.columns = [\n",
        "    \"Linear Regression sklearn\",\n",
        "    \"Linear Regression statsmodels\",\n",
        "]\n",
        "\n",
        "print(\"Test performance comparison:\")\n",
        "models_test_comp_df"
      ],
      "metadata": {
        "id": "WSyN51Cq0zhp"
      },
      "execution_count": null,
      "outputs": []
    },
    {
      "cell_type": "markdown",
      "source": [
        "The performance of the two models are similar"
      ],
      "metadata": {
        "id": "3qZkhLWt1CZy"
      }
    },
    {
      "cell_type": "markdown",
      "source": [
        "Recreating the final statsmodels and printing it's summary for conclusions"
      ],
      "metadata": {
        "id": "2T4SwN_91Sv2"
      }
    },
    {
      "cell_type": "code",
      "source": [
        "olsmodel_final = sm.OLS(y_train, X_train3).fit()\n",
        "print(olsmodel_final.summary())"
      ],
      "metadata": {
        "id": "7Dc2krcv0-Id"
      },
      "execution_count": null,
      "outputs": []
    },
    {
      "cell_type": "markdown",
      "source": [
        "# Concusions and Business Recommendations:\n",
        "1. Release_year has an impact on used phone prices, as expected. Newly released phones have higher used prices, the higher the new price the higher the used price will be.\n",
        "2. The older the phone, the lower the used price. Most customers want phones that are in demand.\n",
        "3. As expected, we can see that selfie_camera, screen_size, and main_camera_mp are significant parameters. As these increase the used price increases. This is indicated by positive coefficients for these parameters predicted by the model.\n",
        "4. The phone brand Celkon as well as os_others have a lower used price. They seem to not be a demand for customers and should probably be discontinued.\n",
        "5. RAM for the refurbished phones was found to be constant ~4GB on average across the dataset, and insignificant.\n",
        "6. Similar to RAM, almost 93.1% of phones were found to be operating on Android os, also an insignificant factor for prediction.\n",
        "7. The linear predictive model is able to predict the used_price of the phone, explaining ~84.6% of the variance in the data, within a mean absolute percentage error of ~4.5%. The model is considered to be good.\n",
        "8. Phones with 4g capability are widely represented in this data set, however 5G phones are newer technology and would be expected to command higher used prices when more widely available.\n",
        "9. All of the assumptions for linear regression were met for the model. However, the data gave the impression that non-linear models may be more suited for prediction."
      ],
      "metadata": {
        "id": "96HKdIce3SpT"
      }
    }
  ]
}